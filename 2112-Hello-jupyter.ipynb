{
 "cells": [
  {
   "cell_type": "markdown",
   "id": "69959c84",
   "metadata": {},
   "source": [
    "# 2112-hello-jupyter\n",
    "\n",
    "## overview\n",
    "- To remember python scripting, run some scripts on jupyter."
   ]
  },
  {
   "cell_type": "markdown",
   "id": "2bf83a16",
   "metadata": {},
   "source": [
    "## hello jupyter!"
   ]
  },
  {
   "cell_type": "code",
   "execution_count": 1,
   "id": "95d775f8",
   "metadata": {},
   "outputs": [
    {
     "name": "stdout",
     "output_type": "stream",
     "text": [
      "Hello, jupyter!\n"
     ]
    }
   ],
   "source": [
    "# hello jupyter\n",
    "print(\"Hello, jupyter!\")"
   ]
  },
  {
   "cell_type": "code",
   "execution_count": 2,
   "id": "1ca6e9ec",
   "metadata": {},
   "outputs": [
    {
     "name": "stdout",
     "output_type": "stream",
     "text": [
      "Hello, jupyter!\n"
     ]
    }
   ],
   "source": [
    "s = \"jupyter\"\n",
    "print(f'Hello, {s}!')"
   ]
  },
  {
   "cell_type": "code",
   "execution_count": 3,
   "id": "f38df2fb",
   "metadata": {},
   "outputs": [
    {
     "data": {
      "text/plain": [
       "'Hey, jupyter!'"
      ]
     },
     "execution_count": 3,
     "metadata": {},
     "output_type": "execute_result"
    }
   ],
   "source": [
    "from string import Template\n",
    "templ = Template('Hey, ${name}!')\n",
    "templ.substitute(name=s)\n"
   ]
  },
  {
   "cell_type": "code",
   "execution_count": 4,
   "id": "e76b560b",
   "metadata": {},
   "outputs": [
    {
     "name": "stdout",
     "output_type": "stream",
     "text": [
      "Hey, jupyter!\n"
     ]
    }
   ],
   "source": [
    "def hello(name):\n",
    "    templ = Template('Hey, ${name}!')\n",
    "    return templ.substitute(name=name)\n",
    "\n",
    "print(hello('jupyter'))\n"
   ]
  },
  {
   "cell_type": "markdown",
   "id": "ef5e2eca",
   "metadata": {},
   "source": [
    "### reference\n",
    "- https://realpython.com/python-string-formatting/"
   ]
  },
  {
   "cell_type": "code",
   "execution_count": 5,
   "id": "287f9165",
   "metadata": {},
   "outputs": [],
   "source": [
    "Template.substitute?\n"
   ]
  },
  {
   "cell_type": "code",
   "execution_count": 6,
   "id": "00b2ac15",
   "metadata": {},
   "outputs": [],
   "source": [
    "name = 'notebook'\n",
    "name?"
   ]
  },
  {
   "cell_type": "markdown",
   "id": "dcbf63d6",
   "metadata": {},
   "source": [
    "## import standard packages\n"
   ]
  },
  {
   "cell_type": "code",
   "execution_count": 7,
   "id": "1b58b318",
   "metadata": {},
   "outputs": [
    {
     "name": "stdout",
     "output_type": "stream",
     "text": [
      "97f869fa-de46-4f8d-a8af-dfb9d62869bd\n"
     ]
    }
   ],
   "source": [
    "import uuid\n",
    "myuuid = uuid.uuid4()\n",
    "\n",
    "print(myuuid)\n"
   ]
  },
  {
   "cell_type": "markdown",
   "id": "788bb8f4",
   "metadata": {},
   "source": [
    "## magic command"
   ]
  },
  {
   "cell_type": "code",
   "execution_count": 8,
   "id": "00693859",
   "metadata": {},
   "outputs": [
    {
     "name": "stdout",
     "output_type": "stream",
     "text": [
      " Volume in drive G is New Volume\n",
      " Volume Serial Number is A0B0-51B7\n",
      "\n",
      " Directory of G:\\workspace\\jupnote\n",
      "\n",
      "29/12/2021  20:17    <DIR>          .\n",
      "29/12/2021  20:17    <DIR>          ..\n",
      "28/12/2021  20:56                19 .env\n",
      "28/12/2021  17:46                46 .gitignore\n",
      "29/12/2021  16:51    <DIR>          .ipynb_checkpoints\n",
      "28/12/2021  20:57    <DIR>          __pycache__\n",
      "29/12/2021  20:09             1,720 2112-awesome-slugify.ipynb\n",
      "29/12/2021  20:10             5,351 2112-collections-basic.ipynb\n",
      "28/12/2021  16:07               814 2112-docops.ipynb\n",
      "29/12/2021  20:12             6,810 2112-dynaconf.ipynb\n",
      "29/12/2021  20:17             6,840 2112-Hello-jupyter.ipynb\n",
      "27/12/2021  16:55             2,057 2112-jinja2.ipynb\n",
      "27/12/2021  15:19             1,119 2112-js-note.ipynb\n",
      "28/12/2021  22:05             2,786 2112-logger.ipynb\n",
      "28/12/2021  14:39             5,567 2112-path-lib.ipynb\n",
      "27/12/2021  17:25             7,397 2112-pendulum-time-lib.ipynb\n",
      "29/12/2021  18:08             5,165 2112-pickledb.ipynb\n",
      "27/12/2021  15:15                72 2112-powershell-sample.ipynb\n",
      "27/12/2021  12:16             4,132 2112-strings-library-basic.ipynb\n",
      "29/12/2021  18:05            14,971 2112-tinydb.ipynb\n",
      "28/12/2021  22:07            10,467 2112-xmltodict.ipynb\n",
      "28/12/2021  21:17    <DIR>          config\n",
      "28/12/2021  21:11               353 config-sample.py\n",
      "29/12/2021  17:02    <DIR>          data\n",
      "28/12/2021  15:12               349 logger-sample.py\n",
      "29/12/2021  20:01               163 requirements-bak.txt\n",
      "              20 File(s)         76,198 bytes\n",
      "               6 Dir(s)  98,243,719,168 bytes free\n"
     ]
    }
   ],
   "source": [
    "%ls"
   ]
  },
  {
   "cell_type": "code",
   "execution_count": 9,
   "id": "e1ad7d1d",
   "metadata": {},
   "outputs": [
    {
     "name": "stdout",
     "output_type": "stream",
     "text": [
      "Package             Version\n",
      "------------------- ----------\n",
      "argon2-cffi         20.1.0\n",
      "async-generator     1.10\n",
      "attrs               21.2.0\n",
      "awesome-slugify     1.6.5\n",
      "backcall            0.2.0\n",
      "bleach              4.0.0\n",
      "certifi             2021.10.8\n",
      "cffi                1.15.0\n",
      "colorama            0.4.4\n",
      "debugpy             1.5.1\n",
      "decorator           5.1.0\n",
      "defusedxml          0.7.1\n",
      "dynaconf            3.1.7\n",
      "entrypoints         0.3\n",
      "importlib-metadata  4.8.2\n",
      "ipykernel           6.4.1\n",
      "ipython             7.29.0\n",
      "ipython-genutils    0.2.0\n",
      "jedi                0.18.0\n",
      "Jinja2              3.0.2\n",
      "jsonschema          3.2.0\n",
      "jupyter-client      7.1.0\n",
      "jupyter-core        4.9.1\n",
      "jupyterlab-pygments 0.1.2\n",
      "MarkupSafe          2.0.1\n",
      "matplotlib-inline   0.1.2\n",
      "mistune             0.8.4\n",
      "nbclient            0.5.3\n",
      "nbconvert           6.1.0\n",
      "nbformat            5.1.3\n",
      "nest-asyncio        1.5.1\n",
      "notebook            6.4.6\n",
      "packaging           21.3\n",
      "pandocfilters       1.4.3\n",
      "parso               0.8.2\n",
      "pickleshare         0.7.5\n",
      "pip                 21.2.4\n",
      "prometheus-client   0.12.0\n",
      "prompt-toolkit      3.0.20\n",
      "pycparser           2.21\n",
      "Pygments            2.10.0\n",
      "pyparsing           3.0.4\n",
      "pyrsistent          0.18.0\n",
      "python-dateutil     2.8.2\n",
      "pywin32             302\n",
      "pywinpty            0.5.7\n",
      "pyzmq               22.3.0\n",
      "regex               2021.11.10\n",
      "Send2Trash          1.8.0\n",
      "setuptools          58.0.4\n",
      "six                 1.16.0\n",
      "terminado           0.9.4\n",
      "testpath            0.5.0\n",
      "tornado             6.1\n",
      "traitlets           5.1.1\n",
      "Unidecode           0.4.21\n",
      "wcwidth             0.2.5\n",
      "webencodings        0.5.1\n",
      "wheel               0.37.0\n",
      "wincertstore        0.2\n",
      "zipp                3.6.0\n"
     ]
    }
   ],
   "source": [
    "!pip list"
   ]
  },
  {
   "cell_type": "markdown",
   "id": "73c4d088",
   "metadata": {},
   "source": [
    "[end of notebook]"
   ]
  }
 ],
 "metadata": {
  "kernelspec": {
   "display_name": "jup",
   "language": "python",
   "name": "python3"
  },
  "language_info": {
   "codemirror_mode": {
    "name": "ipython",
    "version": 3
   },
   "file_extension": ".py",
   "mimetype": "text/x-python",
   "name": "python",
   "nbconvert_exporter": "python",
   "pygments_lexer": "ipython3",
   "version": "3.9.7"
  }
 },
 "nbformat": 4,
 "nbformat_minor": 5
}
