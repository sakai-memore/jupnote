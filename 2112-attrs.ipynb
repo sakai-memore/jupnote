{
 "cells": [
  {
   "cell_type": "markdown",
   "id": "7de7b641",
   "metadata": {},
   "source": [
    "## reference\n",
    "- https://www.attrs.org/en/stable/\n",
    "\n",
    "- => Use standard package 'dataclasses' from python 3.7"
   ]
  },
  {
   "cell_type": "code",
   "execution_count": 1,
   "id": "4b44796c",
   "metadata": {},
   "outputs": [],
   "source": [
    "from attr import asdict, define, make_class, Factory"
   ]
  },
  {
   "cell_type": "code",
   "execution_count": 2,
   "id": "6875bd20",
   "metadata": {},
   "outputs": [],
   "source": [
    "@define\n",
    "class MyClass:\n",
    "    a_number: int = 42\n",
    "    list_of_numbers: list[int] = Factory(list)\n",
    "    \n",
    "    def hard_math(self, another_number):\n",
    "        return self.a_number + sum(self.list_of_numbers) * another_number\n",
    "    \n"
   ]
  },
  {
   "cell_type": "code",
   "execution_count": 3,
   "id": "84356302",
   "metadata": {},
   "outputs": [
    {
     "data": {
      "text/plain": [
       "MyClass(a_number=5, list_of_numbers=[1, 2, 3, 4])"
      ]
     },
     "execution_count": 3,
     "metadata": {},
     "output_type": "execute_result"
    }
   ],
   "source": [
    "mc = MyClass(5, [1,2,3,4])\n",
    "mc"
   ]
  },
  {
   "cell_type": "code",
   "execution_count": 4,
   "id": "5d02bae6",
   "metadata": {},
   "outputs": [
    {
     "data": {
      "text/plain": [
       "55"
      ]
     },
     "execution_count": 4,
     "metadata": {},
     "output_type": "execute_result"
    }
   ],
   "source": [
    "mc.hard_math(5)"
   ]
  },
  {
   "cell_type": "code",
   "execution_count": 5,
   "id": "821c9d15",
   "metadata": {},
   "outputs": [
    {
     "data": {
      "text/plain": [
       "True"
      ]
     },
     "execution_count": 5,
     "metadata": {},
     "output_type": "execute_result"
    }
   ],
   "source": [
    "mc == MyClass(5, [1,2,3,4])"
   ]
  },
  {
   "cell_type": "code",
   "execution_count": 6,
   "id": "ec1281a7",
   "metadata": {},
   "outputs": [
    {
     "data": {
      "text/plain": [
       "{'a_number': 5, 'list_of_numbers': [1, 2, 3, 4]}"
      ]
     },
     "execution_count": 6,
     "metadata": {},
     "output_type": "execute_result"
    }
   ],
   "source": [
    "asdict(mc)"
   ]
  },
  {
   "cell_type": "code",
   "execution_count": 7,
   "id": "d38affb6",
   "metadata": {},
   "outputs": [
    {
     "data": {
      "text/plain": [
       "MyClass(a_number=42, list_of_numbers=[])"
      ]
     },
     "execution_count": 7,
     "metadata": {},
     "output_type": "execute_result"
    }
   ],
   "source": [
    "MyClass()\n"
   ]
  },
  {
   "cell_type": "code",
   "execution_count": 8,
   "id": "69648cf2",
   "metadata": {},
   "outputs": [
    {
     "data": {
      "text/plain": [
       "SampleClass(a='foo', b='bar')"
      ]
     },
     "execution_count": 8,
     "metadata": {},
     "output_type": "execute_result"
    }
   ],
   "source": [
    "SampleClass = make_class(\"SampleClass\", [\"a\", \"b\"])\n",
    "SampleClass('foo', 'bar')\n"
   ]
  },
  {
   "cell_type": "code",
   "execution_count": 9,
   "id": "c28b5c4b",
   "metadata": {},
   "outputs": [
    {
     "data": {
      "text/plain": [
       "{'a': 'John', 'b': 'McCartney'}"
      ]
     },
     "execution_count": 9,
     "metadata": {},
     "output_type": "execute_result"
    }
   ],
   "source": [
    "asdict(SampleClass('John', 'McCartney'))"
   ]
  },
  {
   "cell_type": "markdown",
   "id": "c929834d",
   "metadata": {},
   "source": [
    "## @dataclass\n",
    "- https://qiita.com/tag1216/items/13b032348c893667862a\n"
   ]
  },
  {
   "cell_type": "markdown",
   "id": "6026da33",
   "metadata": {},
   "source": [
    "### dataclasses_jsonschema\n",
    "- https://pypi.org/project/dataclasses-jsonschema/\n",
    "  - https://github.com/s-knibbs/dataclasses-jsonschema/blob/master/tests/conftest.py"
   ]
  },
  {
   "cell_type": "code",
   "execution_count": 10,
   "id": "90266599",
   "metadata": {},
   "outputs": [],
   "source": [
    "from dataclasses import dataclass\n",
    "from dataclasses_jsonschema import JsonSchemaMixin"
   ]
  },
  {
   "cell_type": "code",
   "execution_count": 11,
   "id": "8a6bd19c",
   "metadata": {},
   "outputs": [],
   "source": [
    "@dataclass\n",
    "class Point(JsonSchemaMixin):\n",
    "    \"\"\"a 2D point\"\"\"\n",
    "    x: float\n",
    "    y: float\n",
    "    \n"
   ]
  },
  {
   "cell_type": "code",
   "execution_count": 12,
   "id": "bc9825bc",
   "metadata": {},
   "outputs": [
    {
     "name": "stdout",
     "output_type": "stream",
     "text": [
      "{ '$schema': 'http://json-schema.org/draft-06/schema#',\n",
      "  'description': 'a 2D point',\n",
      "  'properties': {'x': {'type': 'number'}, 'y': {'type': 'number'}},\n",
      "  'required': ['x', 'y'],\n",
      "  'type': 'object'}\n"
     ]
    }
   ],
   "source": [
    "import pprint\n",
    "pp = pprint.PrettyPrinter(indent=2)\n",
    "## generate json schema\n",
    "pp.pprint(Point.json_schema())"
   ]
  },
  {
   "cell_type": "markdown",
   "id": "2e617322",
   "metadata": {},
   "source": [
    "- https://docs.python.org/3/library/pprint.html"
   ]
  },
  {
   "cell_type": "code",
   "execution_count": 13,
   "id": "e43f1de9",
   "metadata": {},
   "outputs": [
    {
     "name": "stdout",
     "output_type": "stream",
     "text": [
      "{'type': 'object', 'required': ['x', 'y'], 'properties': {'x': {'type': 'number'}, 'y': {'type': 'number'}}, 'description': 'a 2D point', '$schema': 'http://json-schema.org/draft-06/schema#'}\n"
     ]
    }
   ],
   "source": [
    "print(Point.json_schema())"
   ]
  },
  {
   "cell_type": "code",
   "execution_count": 14,
   "id": "973778a7",
   "metadata": {},
   "outputs": [
    {
     "data": {
      "text/plain": [
       "Point(x=3.14, y=2.5)"
      ]
     },
     "execution_count": 14,
     "metadata": {},
     "output_type": "execute_result"
    }
   ],
   "source": [
    "## Deserialization\n",
    "dct = {\n",
    "    'x': 3.14,\n",
    "    'y': 2.50\n",
    "}\n",
    "Point.from_dict(dct)"
   ]
  },
  {
   "cell_type": "code",
   "execution_count": 15,
   "id": "87625831",
   "metadata": {},
   "outputs": [
    {
     "data": {
      "text/plain": [
       "1.111"
      ]
     },
     "execution_count": 15,
     "metadata": {},
     "output_type": "execute_result"
    }
   ],
   "source": [
    "p = Point(1.111,2.222)\n",
    "p.x"
   ]
  },
  {
   "cell_type": "code",
   "execution_count": 16,
   "id": "f97928d9",
   "metadata": {},
   "outputs": [
    {
     "data": {
      "text/plain": [
       "Point(x=1.111, y=2.222)"
      ]
     },
     "execution_count": 16,
     "metadata": {},
     "output_type": "execute_result"
    }
   ],
   "source": [
    "## __str__()\n",
    "p"
   ]
  },
  {
   "cell_type": "code",
   "execution_count": 35,
   "id": "93f8d009",
   "metadata": {},
   "outputs": [
    {
     "name": "stdout",
     "output_type": "stream",
     "text": [
      "'y-ax' is not of type 'number'\n",
      "\n",
      "Failed validating 'type' in schema['properties']['y']:\n",
      "    {'type': 'number'}\n",
      "\n",
      "On instance['y']:\n",
      "    'y-ax'\n"
     ]
    }
   ],
   "source": [
    "try:\n",
    "    dct2 = {\n",
    "        'x': 3.21,\n",
    "        'y': 'y-ax'\n",
    "    }\n",
    "    p2 = Point.from_dict(dct2)\n",
    "except Exception as e:\n",
    "    print(e)"
   ]
  },
  {
   "cell_type": "code",
   "execution_count": 18,
   "id": "b021451d",
   "metadata": {},
   "outputs": [],
   "source": [
    "### custome validator\n",
    "from dataclasses_jsonschema import FieldEncoder\n",
    "from typing import NewType, Optional\n",
    "\n",
    "PhoneNumber = NewType('PhoneNumber', str)\n",
    "\n",
    "class PhoneNumberField(FieldEncoder):\n",
    "    @property\n",
    "    def json_schema(self):\n",
    "        return {\n",
    "            'type': 'string',\n",
    "            'pattern': r'^(\\([0-9]{3}\\))?[0-9]{3}-[0-9]{4}$',\n",
    "            'maxLength': 12\n",
    "        }\n",
    "\n",
    "JsonSchemaMixin.register_field_encoders({PhoneNumber: PhoneNumberField()})\n",
    "\n",
    "@dataclass\n",
    "class Person(JsonSchemaMixin):\n",
    "    name: str\n",
    "    phone_number: Optional[PhoneNumber]\n"
   ]
  },
  {
   "cell_type": "code",
   "execution_count": 19,
   "id": "5a4ecc55",
   "metadata": {},
   "outputs": [
    {
     "name": "stdout",
     "output_type": "stream",
     "text": [
      "Person(name='John', phone_number='222-333-4444')\n"
     ]
    }
   ],
   "source": [
    "person1 = Person('John', '222-333-4444')\n",
    "print(person1)"
   ]
  },
  {
   "cell_type": "code",
   "execution_count": 31,
   "id": "7a9e1fe8",
   "metadata": {
    "scrolled": true
   },
   "outputs": [
    {
     "name": "stdout",
     "output_type": "stream",
     "text": [
      "Person(name='Paul', phone_number='222-333-444AAA')\n"
     ]
    },
    {
     "data": {
      "text/plain": [
       "['_JsonSchemaMixin__allow_additional_props',\n",
       " '_JsonSchemaMixin__compiled_schema',\n",
       " '_JsonSchemaMixin__decode_cache',\n",
       " '_JsonSchemaMixin__definitions',\n",
       " '_JsonSchemaMixin__discriminator_inherited',\n",
       " '_JsonSchemaMixin__discriminator_name',\n",
       " '_JsonSchemaMixin__encode_cache',\n",
       " '_JsonSchemaMixin__mapped_fields',\n",
       " '_JsonSchemaMixin__schema',\n",
       " '_JsonSchemaMixin__serialise_properties',\n",
       " '__annotations__',\n",
       " '__class__',\n",
       " '__dataclass_fields__',\n",
       " '__dataclass_params__',\n",
       " '__delattr__',\n",
       " '__dict__',\n",
       " '__dir__',\n",
       " '__doc__',\n",
       " '__eq__',\n",
       " '__format__',\n",
       " '__ge__',\n",
       " '__getattribute__',\n",
       " '__gt__',\n",
       " '__hash__',\n",
       " '__init__',\n",
       " '__init_subclass__',\n",
       " '__le__',\n",
       " '__lt__',\n",
       " '__module__',\n",
       " '__ne__',\n",
       " '__new__',\n",
       " '__reduce__',\n",
       " '__reduce_ex__',\n",
       " '__repr__',\n",
       " '__setattr__',\n",
       " '__sizeof__',\n",
       " '__str__',\n",
       " '__subclasshook__',\n",
       " '__weakref__',\n",
       " '_decode_field',\n",
       " '_discriminator',\n",
       " '_encode_field',\n",
       " '_field_encoders',\n",
       " '_get_field_definitions',\n",
       " '_get_field_meta',\n",
       " '_get_field_schema',\n",
       " '_get_field_type_name',\n",
       " '_get_fields',\n",
       " '_is_json_schema_subclass',\n",
       " '_validate',\n",
       " 'all_json_schemas',\n",
       " 'field_mapping',\n",
       " 'from_dict',\n",
       " 'from_json',\n",
       " 'from_object',\n",
       " 'json_schema',\n",
       " 'name',\n",
       " 'phone_number',\n",
       " 'register_field_encoders',\n",
       " 'to_dict',\n",
       " 'to_json']"
      ]
     },
     "execution_count": 31,
     "metadata": {},
     "output_type": "execute_result"
    }
   ],
   "source": [
    "person2 = Person('Paul', '222-333-444AAA')\n",
    "print(person2) ## validation is not available ## when convert from json, it is available\n",
    "dir(person2)"
   ]
  },
  {
   "cell_type": "code",
   "execution_count": 34,
   "id": "bf5717af",
   "metadata": {},
   "outputs": [
    {
     "name": "stdout",
     "output_type": "stream",
     "text": [
      "__init__() missing 1 required positional argument: 'phone_number'\n"
     ]
    }
   ],
   "source": [
    "try:\n",
    "    person3 = Person('George') ## validation is not available\n",
    "except Exception as e:\n",
    "    print(e)"
   ]
  },
  {
   "cell_type": "code",
   "execution_count": 24,
   "id": "f53ca29b",
   "metadata": {},
   "outputs": [
    {
     "data": {
      "text/plain": [
       "{'type': 'object',\n",
       " 'required': ['name'],\n",
       " 'properties': {'name': {'type': 'string'},\n",
       "  'phone_number': {'type': 'string',\n",
       "   'pattern': '^(\\\\([0-9]{3}\\\\))?[0-9]{3}-[0-9]{4}$',\n",
       "   'maxLength': 12}},\n",
       " 'description': 'Person(name: str, phone_number: Optional[PhoneNumber])',\n",
       " '$schema': 'http://json-schema.org/draft-06/schema#'}"
      ]
     },
     "execution_count": 24,
     "metadata": {},
     "output_type": "execute_result"
    }
   ],
   "source": [
    "Person.json_schema()"
   ]
  },
  {
   "cell_type": "code",
   "execution_count": 30,
   "id": "825db5d9",
   "metadata": {},
   "outputs": [
    {
     "data": {
      "text/plain": [
       "Person(name='Ringo', phone_number='123-4567')"
      ]
     },
     "execution_count": 30,
     "metadata": {},
     "output_type": "execute_result"
    }
   ],
   "source": [
    "dct4 = {\n",
    "    'name': 'Ringo',\n",
    "    'phone_number': '123-4567'\n",
    "}\n",
    "import json\n",
    "json4 = json.dumps(dct4)\n",
    "json4\n",
    "person4 = Person.from_json(json4)\n",
    "person4"
   ]
  },
  {
   "cell_type": "code",
   "execution_count": 33,
   "id": "db9afc83",
   "metadata": {},
   "outputs": [
    {
     "name": "stdout",
     "output_type": "stream",
     "text": [
      "'03-123-4567' does not match '^(\\\\([0-9]{3}\\\\))?[0-9]{3}-[0-9]{4}$'\n",
      "\n",
      "Failed validating 'pattern' in schema['properties']['phone_number']:\n",
      "    {'maxLength': 12,\n",
      "     'pattern': '^(\\\\([0-9]{3}\\\\))?[0-9]{3}-[0-9]{4}$',\n",
      "     'type': 'string'}\n",
      "\n",
      "On instance['phone_number']:\n",
      "    '03-123-4567'\n"
     ]
    }
   ],
   "source": [
    "try:\n",
    "    \n",
    "    dct5 = {\n",
    "        'name': 'Mary',\n",
    "        'phone_number': '03-123-4567'\n",
    "    }\n",
    "    import json\n",
    "    json5 = json.dumps(dct5)\n",
    "    json5\n",
    "    person5 = Person.from_json(json5)\n",
    "    person5\n",
    "except Exception as e:\n",
    "    print(e)\n",
    "    \n"
   ]
  },
  {
   "cell_type": "markdown",
   "id": "8af13002",
   "metadata": {},
   "source": [
    "- https://stackoverflow.com/questions/47719838/how-to-catch-all-exceptions-in-try-catch-block-python"
   ]
  },
  {
   "cell_type": "markdown",
   "id": "35e4d0fa",
   "metadata": {},
   "source": [
    "## OOP in python 3\n",
    "### Define Class in python\n",
    "- Data Object: Value Object, Enumeration, POJO, DTO\n",
    "- Interface\n",
    "- Entity\n",
    "- Repository: DAO"
   ]
  },
  {
   "cell_type": "markdown",
   "id": "c6e92ec3",
   "metadata": {},
   "source": [
    "### Why We Use complex data structure.\n",
    "- Validate\n",
    "- Easy to undersand\n",
    "- Layer of Architecture"
   ]
  },
  {
   "cell_type": "markdown",
   "id": "f0da5862",
   "metadata": {},
   "source": [
    "- OOP is a method of structuring a program by bundling related properties and behaviors into indibidual object.\n",
    "- Conceptually, Objects are like the components of a system.\n",
    "- At each step of the assembly procedure a system component processes some objects, ultimately raw data into a finished outcome.\n",
    "- An object contains data, like the raw or preprocessed infomation at each step on an procedure, and behavior, like the action each procedure component performs.\n",
    "\n",
    "https://realpython.com/python3-object-oriented-programming/"
   ]
  }
 ],
 "metadata": {
  "kernelspec": {
   "display_name": "jup",
   "language": "python",
   "name": "python3"
  },
  "language_info": {
   "codemirror_mode": {
    "name": "ipython",
    "version": 3
   },
   "file_extension": ".py",
   "mimetype": "text/x-python",
   "name": "python",
   "nbconvert_exporter": "python",
   "pygments_lexer": "ipython3",
   "version": "3.9.7"
  }
 },
 "nbformat": 4,
 "nbformat_minor": 5
}
