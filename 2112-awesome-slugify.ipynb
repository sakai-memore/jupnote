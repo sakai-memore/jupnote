{
 "cells": [
  {
   "cell_type": "markdown",
   "id": "8d5fc07a",
   "metadata": {},
   "source": [
    "### reference\n",
    "- https://github.com/voronind/awesome-slugify\n",
    "\n",
    "- [ ] **FIXME** : Examine Django's slugify module"
   ]
  },
  {
   "cell_type": "markdown",
   "id": "86d37c34",
   "metadata": {},
   "source": [
    "### execution of script"
   ]
  },
  {
   "cell_type": "code",
   "execution_count": 1,
   "id": "80740a72",
   "metadata": {},
   "outputs": [],
   "source": [
    "from slugify import slugify"
   ]
  },
  {
   "cell_type": "code",
   "execution_count": 2,
   "id": "d005cd25",
   "metadata": {},
   "outputs": [
    {
     "data": {
      "text/plain": [
       "'I-am-a-System-Engineer-SE'"
      ]
     },
     "execution_count": 2,
     "metadata": {},
     "output_type": "execute_result"
    }
   ],
   "source": [
    "s = 'I am a System Engineer, SE.'\n",
    "slugify(s)"
   ]
  },
  {
   "cell_type": "code",
   "execution_count": 3,
   "id": "df96a279",
   "metadata": {},
   "outputs": [
    {
     "data": {
      "text/plain": [
       "'i-am-a-system-engineer-se'"
      ]
     },
     "execution_count": 3,
     "metadata": {},
     "output_type": "execute_result"
    }
   ],
   "source": [
    "slugify(s, to_lower=True)"
   ]
  }
 ],
 "metadata": {
  "kernelspec": {
   "display_name": "jup",
   "language": "python",
   "name": "python3"
  },
  "language_info": {
   "codemirror_mode": {
    "name": "ipython",
    "version": 3
   },
   "file_extension": ".py",
   "mimetype": "text/x-python",
   "name": "python",
   "nbconvert_exporter": "python",
   "pygments_lexer": "ipython3",
   "version": "3.9.7"
  }
 },
 "nbformat": 4,
 "nbformat_minor": 5
}
