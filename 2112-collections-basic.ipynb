{
 "cells": [
  {
   "cell_type": "markdown",
   "id": "edf37b93",
   "metadata": {},
   "source": [
    "# 2112-collections-basic\n"
   ]
  },
  {
   "cell_type": "markdown",
   "id": "5e340627",
   "metadata": {},
   "source": [
    "## list, tuple"
   ]
  },
  {
   "cell_type": "code",
   "execution_count": 1,
   "id": "7727e67d",
   "metadata": {},
   "outputs": [
    {
     "data": {
      "text/plain": [
       "[3, 4, 5, 6]"
      ]
     },
     "execution_count": 1,
     "metadata": {},
     "output_type": "execute_result"
    }
   ],
   "source": [
    "lst = [3,4,5,6]\n",
    "lst"
   ]
  },
  {
   "cell_type": "code",
   "execution_count": 2,
   "id": "83a279c2",
   "metadata": {},
   "outputs": [
    {
     "data": {
      "text/plain": [
       "(3, 4, 5, 6)"
      ]
     },
     "execution_count": 2,
     "metadata": {},
     "output_type": "execute_result"
    }
   ],
   "source": [
    "tpl = (3,4,5,6)\n",
    "tpl"
   ]
  },
  {
   "cell_type": "code",
   "execution_count": 3,
   "id": "5a50ec76",
   "metadata": {},
   "outputs": [
    {
     "name": "stdout",
     "output_type": "stream",
     "text": [
      "append\n",
      "clear\n",
      "copy\n",
      "count\n",
      "extend\n",
      "index\n",
      "insert\n",
      "pop\n",
      "remove\n",
      "reverse\n",
      "sort\n"
     ]
    }
   ],
   "source": [
    "for elm in dir(lst):\n",
    "    if(not elm.startswith(\"__\")):\n",
    "        print(elm)"
   ]
  },
  {
   "cell_type": "code",
   "execution_count": 4,
   "id": "d26b70db",
   "metadata": {},
   "outputs": [
    {
     "name": "stdout",
     "output_type": "stream",
     "text": [
      "4\n"
     ]
    }
   ],
   "source": [
    "print(len(lst))"
   ]
  },
  {
   "cell_type": "code",
   "execution_count": 5,
   "id": "354a8f36",
   "metadata": {},
   "outputs": [
    {
     "name": "stdout",
     "output_type": "stream",
     "text": [
      "count\n",
      "index\n"
     ]
    }
   ],
   "source": [
    "for elm in dir(tpl):\n",
    "    if(not elm.startswith(\"__\")):\n",
    "        print(elm)"
   ]
  },
  {
   "cell_type": "markdown",
   "id": "447660ce",
   "metadata": {},
   "source": [
    "### empty list"
   ]
  },
  {
   "cell_type": "code",
   "execution_count": 6,
   "id": "2ae42e1f",
   "metadata": {},
   "outputs": [],
   "source": [
    "emptylst = []\n"
   ]
  },
  {
   "cell_type": "markdown",
   "id": "33be3e07",
   "metadata": {},
   "source": [
    "### empty tuple"
   ]
  },
  {
   "cell_type": "code",
   "execution_count": 7,
   "id": "ad810351",
   "metadata": {},
   "outputs": [],
   "source": [
    "emptytpl = ()"
   ]
  },
  {
   "cell_type": "markdown",
   "id": "82b1f663",
   "metadata": {},
   "source": [
    "### join"
   ]
  },
  {
   "cell_type": "code",
   "execution_count": 8,
   "id": "3cc182ea",
   "metadata": {},
   "outputs": [
    {
     "name": "stdout",
     "output_type": "stream",
     "text": [
      "['spring', ' summer', ' automn', ' winter', '春', '秋']\n"
     ]
    }
   ],
   "source": [
    "lst2 = \"spring, summer, automn, winter\".split(\",\")\n",
    "lst3 = ['春','秋']\n",
    "print(lst2 + lst3)"
   ]
  },
  {
   "cell_type": "markdown",
   "id": "302317e6",
   "metadata": {},
   "source": [
    "### slice\n"
   ]
  },
  {
   "cell_type": "code",
   "execution_count": 9,
   "id": "38c8073d",
   "metadata": {},
   "outputs": [
    {
     "data": {
      "text/plain": [
       "['spring', ' summer']"
      ]
     },
     "execution_count": 9,
     "metadata": {},
     "output_type": "execute_result"
    }
   ],
   "source": [
    "lst2[0:2]"
   ]
  },
  {
   "cell_type": "code",
   "execution_count": 10,
   "id": "2ecb3fa8",
   "metadata": {},
   "outputs": [
    {
     "data": {
      "text/plain": [
       "' winter'"
      ]
     },
     "execution_count": 10,
     "metadata": {},
     "output_type": "execute_result"
    }
   ],
   "source": [
    "lst2[-1]"
   ]
  },
  {
   "cell_type": "markdown",
   "id": "b51497cd",
   "metadata": {},
   "source": [
    "### type convert"
   ]
  },
  {
   "cell_type": "code",
   "execution_count": 11,
   "id": "48615adb",
   "metadata": {},
   "outputs": [
    {
     "data": {
      "text/plain": [
       "tuple"
      ]
     },
     "execution_count": 11,
     "metadata": {},
     "output_type": "execute_result"
    }
   ],
   "source": [
    "tpl2 = tuple(lst2)\n",
    "type(tpl2)"
   ]
  },
  {
   "cell_type": "code",
   "execution_count": 12,
   "id": "e25e4144",
   "metadata": {},
   "outputs": [
    {
     "data": {
      "text/plain": [
       "['spring', ' summer', ' automn', 3]"
      ]
     },
     "execution_count": 12,
     "metadata": {},
     "output_type": "execute_result"
    }
   ],
   "source": [
    "lst2[-1] = tpl[0]\n",
    "lst2"
   ]
  },
  {
   "cell_type": "code",
   "execution_count": null,
   "id": "178d7640",
   "metadata": {},
   "outputs": [],
   "source": []
  }
 ],
 "metadata": {
  "kernelspec": {
   "display_name": "jup",
   "language": "python",
   "name": "python3"
  },
  "language_info": {
   "codemirror_mode": {
    "name": "ipython",
    "version": 3
   },
   "file_extension": ".py",
   "mimetype": "text/x-python",
   "name": "python",
   "nbconvert_exporter": "python",
   "pygments_lexer": "ipython3",
   "version": "3.9.7"
  }
 },
 "nbformat": 4,
 "nbformat_minor": 5
}
