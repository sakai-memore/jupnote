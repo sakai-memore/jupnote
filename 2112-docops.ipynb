{
 "cells": [
  {
   "cell_type": "markdown",
   "id": "d82805c1",
   "metadata": {},
   "source": [
    "## reference\n",
    "- https://github.com/sakai-memoru/docopt-sample"
   ]
  },
  {
   "cell_type": "markdown",
   "id": "251414aa",
   "metadata": {},
   "source": [
    "### reference: docstring\n",
    "- https://atmarkit.itmedia.co.jp/ait/articles/1912/06/news025.html"
   ]
  }
 ],
 "metadata": {
  "kernelspec": {
   "display_name": "jup",
   "language": "python",
   "name": "python3"
  },
  "language_info": {
   "codemirror_mode": {
    "name": "ipython",
    "version": 3
   },
   "file_extension": ".py",
   "mimetype": "text/x-python",
   "name": "python",
   "nbconvert_exporter": "python",
   "pygments_lexer": "ipython3",
   "version": "3.10.0"
  }
 },
 "nbformat": 4,
 "nbformat_minor": 5
}
