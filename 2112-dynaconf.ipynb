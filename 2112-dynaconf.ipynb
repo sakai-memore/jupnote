{
 "cells": [
  {
   "cell_type": "markdown",
   "id": "beb7d217",
   "metadata": {},
   "source": [
    "## FIXME\n",
    "- [ ] Django and dynaconf"
   ]
  },
  {
   "cell_type": "markdown",
   "id": "f3be3122",
   "metadata": {},
   "source": [
    "## reference\n",
    "- http://brunorocha.org/python/dynaconf-let-your-settings-to-be-dynamic.html#:~:text=Dynaconf%20is%20a%20common%20point%20of%20access%20to,need%20if%20you%20write%20a%20simple%20dynaconf%20loader.\n",
    "- https://www.dynaconf.com/\n"
   ]
  },
  {
   "cell_type": "markdown",
   "id": "04bcad23",
   "metadata": {},
   "source": [
    "## What's DYNACONF\n",
    "- **dynaconf** is an Object Settings Mapper, configuration setting. It can read settings variables from a set of diffrent data stores such as python setting file, environment variables, ini files, json files, and yaml files.\n",
    "- And can customize dynaconf loaders to read from wherever you want.\n"
   ]
  },
  {
   "cell_type": "markdown",
   "id": "5679831d",
   "metadata": {},
   "source": [
    "### refrence to TOML\n",
    "- https://en.wikipedia.org/wiki/TOML#:~:text=TOML%20is%20a%20file%20format%20for%20configuration%20files.,Its%20specification%20is%20open-source%2C%20and%20receives%20community%20contributions.\n",
    "- https://toml.io/en/\n",
    "- https://qiita.com/b4b4r07/items/77c327742fc2256d6cbe"
   ]
  },
  {
   "cell_type": "markdown",
   "id": "980946c1",
   "metadata": {},
   "source": [
    "## Understanding the settings\n",
    "- Configurations can be separated into environments: [default], [development], [staging]. [testing] and [production]\n",
    "- Sensitive data like tokes, secret keys and passwords can be stored in .secret.toml files and/or external storages like Redis or vault secrets server.\n",
    "- Without any action, your application by default run in the [development]. The environment can be changed via the ENV_FOR_DYNACONF environment variable.\n",
    "\n",
    "### Environment variables\n",
    "- ENV_FOR_DYNACONF\n",
    "- SETTINGS_FILE_FOR_DYNACONF\n",
    "- ROOT_PATH_FOR_DYNACONF"
   ]
  },
  {
   "cell_type": "markdown",
   "id": "57ca5378",
   "metadata": {},
   "source": [
    "## installation\n",
    "\n",
    "```cmd\n",
    "G:\\workspace\\jupnote>conda activate jup\n",
    "\n",
    "(jup) G:\\workspace\\jupnote>pip install dynaconf\n",
    "Collecting dynaconf\n",
    "  Downloading dynaconf-3.1.7-py2.py3-none-any.whl (200 kB)\n",
    "     |████████████████████████████████| 200 kB 3.2 MB/s\n",
    "Installing collected packages: dynaconf\n",
    "Successfully installed dynaconf-3.1.7\n",
    "\n",
    "(jup) G:\\workspace\\jupnote>dynaconf --version\n",
    "3.1.7\n",
    "```"
   ]
  },
  {
   "cell_type": "markdown",
   "id": "d34cd3a0",
   "metadata": {},
   "source": [
    "## initialize my project\n",
    "\n",
    "```\n",
    "(jup) G:\\workspace\\jupnote>dynaconf init -f toml\n",
    "⚙️  Configuring your Dynaconf environment\n",
    "------------------------------------------\n",
    "🐍 The file `config.py` was generated.\n",
    "  on your code now use `from config import settings`.\n",
    "  (you must have `config` importable in your PYTHONPATH).\n",
    "\n",
    "🎛️  settings.toml created to hold your settings.\n",
    "\n",
    "🔑 .secrets.toml created to hold your secrets.\n",
    "\n",
    "🙈 the .secrets.toml is also included in `.gitignore`\n",
    "  beware to not push your secrets to a public repo\n",
    "  or use dynaconf builtin support for Vault Servers.\n",
    "\n",
    "🎉 Dynaconf is configured! read more on https://dynaconf.com\n",
    "   Use `dynaconf -i config.settings list` to see your settings\n",
    "```"
   ]
  },
  {
   "cell_type": "code",
   "execution_count": 1,
   "id": "775b1b54",
   "metadata": {},
   "outputs": [
    {
     "name": "stdout",
     "output_type": "stream",
     "text": [
      "G:\\workspace\\jupnote\n"
     ]
    }
   ],
   "source": [
    "!cd\n"
   ]
  },
  {
   "cell_type": "code",
   "execution_count": 9,
   "id": "0d349c93",
   "metadata": {},
   "outputs": [
    {
     "ename": "ModuleNotFoundError",
     "evalue": "No module named 'config.config'; 'config' is not a package",
     "output_type": "error",
     "traceback": [
      "\u001b[1;31m---------------------------------------------------------------------------\u001b[0m",
      "\u001b[1;31mModuleNotFoundError\u001b[0m                       Traceback (most recent call last)",
      "\u001b[1;32m~\\AppData\\Local\\Temp/ipykernel_12276/3607059923.py\u001b[0m in \u001b[0;36m<module>\u001b[1;34m\u001b[0m\n\u001b[1;32m----> 1\u001b[1;33m \u001b[1;32mfrom\u001b[0m \u001b[0mconfig\u001b[0m\u001b[1;33m.\u001b[0m\u001b[0mconfig\u001b[0m \u001b[1;32mimport\u001b[0m \u001b[0msettings\u001b[0m\u001b[1;33m\u001b[0m\u001b[1;33m\u001b[0m\u001b[0m\n\u001b[0m\u001b[0;32m      2\u001b[0m \u001b[1;33m\u001b[0m\u001b[0m\n\u001b[0;32m      3\u001b[0m \u001b[1;32massert\u001b[0m \u001b[0msettings\u001b[0m\u001b[1;33m.\u001b[0m\u001b[0mkey\u001b[0m \u001b[1;33m==\u001b[0m \u001b[1;34m\"value\"\u001b[0m\u001b[1;33m\u001b[0m\u001b[1;33m\u001b[0m\u001b[0m\n\u001b[0;32m      4\u001b[0m \u001b[1;33m\u001b[0m\u001b[0m\n\u001b[0;32m      5\u001b[0m \u001b[0mprint\u001b[0m\u001b[1;33m(\u001b[0m\u001b[0msettings\u001b[0m\u001b[1;33m.\u001b[0m\u001b[0mkey\u001b[0m\u001b[1;33m)\u001b[0m\u001b[1;33m\u001b[0m\u001b[1;33m\u001b[0m\u001b[0m\n",
      "\u001b[1;31mModuleNotFoundError\u001b[0m: No module named 'config.config'; 'config' is not a package"
     ]
    }
   ],
   "source": [
    "from config.config import settings\n",
    "\n",
    "assert settings.key == \"value\"\n",
    "\n",
    "print(settings.key)\n",
    "print(settings.number)\n",
    "\n",
    "assert settings.number == 1234\n",
    "assert settings.a_dict.nested.other_level == \"nested value\"\n",
    "assert settings['a_boolean'] is False\n",
    "assert settings.get(\"DONTEXIST\", default=1) == 1\n",
    "\n",
    "print(f'settings[\"debug\"]: {settings[\"debug\"]}')\n"
   ]
  },
  {
   "cell_type": "markdown",
   "id": "41d65a48",
   "metadata": {},
   "source": [
    "### reference for __init__.py\n",
    "- https://qiita.com/msi/items/d91ea3900373ff8b09d7\n",
    "- https://qiita.com/FN_Programming/items/2dcabc93365a62397afe"
   ]
  }
 ],
 "metadata": {
  "kernelspec": {
   "display_name": "jup",
   "language": "python",
   "name": "python3"
  },
  "language_info": {
   "codemirror_mode": {
    "name": "ipython",
    "version": 3
   },
   "file_extension": ".py",
   "mimetype": "text/x-python",
   "name": "python",
   "nbconvert_exporter": "python",
   "pygments_lexer": "ipython3",
   "version": "3.9.7"
  }
 },
 "nbformat": 4,
 "nbformat_minor": 5
}
