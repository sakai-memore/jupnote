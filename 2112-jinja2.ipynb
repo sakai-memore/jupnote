{
 "cells": [
  {
   "cell_type": "markdown",
   "id": "d47fa50a",
   "metadata": {},
   "source": [
    "### reference"
   ]
  },
  {
   "cell_type": "markdown",
   "id": "765d78a7",
   "metadata": {},
   "source": [
    "- https://showa-yojyo.github.io/notebook/python-jinja2.html\n",
    "- https://jinja.palletsprojects.com/en/3.0.x/"
   ]
  },
  {
   "cell_type": "markdown",
   "id": "f161e8c1",
   "metadata": {},
   "source": [
    "### sample"
   ]
  },
  {
   "cell_type": "code",
   "execution_count": 1,
   "id": "2906442b",
   "metadata": {},
   "outputs": [],
   "source": [
    "from jinja2 import Template\n"
   ]
  },
  {
   "cell_type": "code",
   "execution_count": 2,
   "id": "74ab4854",
   "metadata": {},
   "outputs": [
    {
     "data": {
      "text/plain": [
       "'Hello, jinja2!'"
      ]
     },
     "execution_count": 2,
     "metadata": {},
     "output_type": "execute_result"
    }
   ],
   "source": [
    "format = \"Hello, {{name}}!\"\n",
    "name = \"jinja2\"\n",
    "templ = Template(format)\n",
    "templ.render(name=name)\n"
   ]
  },
  {
   "cell_type": "code",
   "execution_count": 3,
   "id": "b2263896",
   "metadata": {},
   "outputs": [
    {
     "data": {
      "text/plain": [
       "'\\n\\n    1\\n    2\\n    3\\n    4\\n    5'"
      ]
     },
     "execution_count": 3,
     "metadata": {},
     "output_type": "execute_result"
    }
   ],
   "source": [
    "herestr = '''\n",
    "{% for item in seq %}\n",
    "    {{ item }}\n",
    "{%- endfor %}\n",
    "'''\n",
    "seq = 1,2,3,4,5\n",
    "templ2 = Template(herestr)\n",
    "templ2.render(seq=seq)"
   ]
  }
 ],
 "metadata": {
  "kernelspec": {
   "display_name": "jup",
   "language": "python",
   "name": "python3"
  },
  "language_info": {
   "codemirror_mode": {
    "name": "ipython",
    "version": 3
   },
   "file_extension": ".py",
   "mimetype": "text/x-python",
   "name": "python",
   "nbconvert_exporter": "python",
   "pygments_lexer": "ipython3",
   "version": "3.9.7"
  }
 },
 "nbformat": 4,
 "nbformat_minor": 5
}
