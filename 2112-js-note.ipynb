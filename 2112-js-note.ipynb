{
 "cells": [
  {
   "cell_type": "markdown",
   "id": "c6dded1c",
   "metadata": {},
   "source": [
    "# 2112-js-note\n"
   ]
  },
  {
   "cell_type": "markdown",
   "id": "ffdbd188",
   "metadata": {},
   "source": [
    "## installation\n",
    "\n",
    "### npm install -g tslab\n",
    "\n",
    "#### reference\n",
    "- https://github.com/yunabe/tslab\n",
    "- https://dev.classmethod.jp/articles/ts-action/\n",
    "\n",
    "\n",
    "#### installation logs\n",
    "```cmd\n",
    "\n",
    "(jup) G:\\workspace\\jupnote>npm install -g tslab\n",
    "\n",
    "G:\\workspace\\jupnote>tslab install --version\n",
    "tslab 1.0.15\n",
    "\n",
    "G:\\workspace\\jupnote>tslab install\n",
    "Running python C:\\Users\\sakai\\AppData\\Roaming\\npm\\node_modules\\tslab\\python\\install.py --tslab=tslab.cmd\n",
    "jupyter is not installed in this Python.\n",
    "\n",
    "G:\\workspace\\jupnote>conda activate jup\n",
    "\n",
    "(jup) G:\\workspace\\jupnote>tslab install\n",
    "Running python C:\\Users\\sakai\\AppData\\Roaming\\npm\\node_modules\\tslab\\python\\install.py --tslab=tslab.cmd\n",
    "Installing TypeScript kernel spec\n",
    "Installing JavaScript kernel spec\n",
    "\n",
    "(jup) G:\\workspace\\jupnote>jupyter kernelspec list\n",
    "Available kernels:\n",
    "  jslab      C:\\Users\\sakai\\AppData\\Roaming\\jupyter\\kernels\\jslab\n",
    "  python3    C:\\Users\\sakai\\AppData\\Roaming\\jupyter\\kernels\\python3\n",
    "  tslab      C:\\Users\\sakai\\AppData\\Roaming\\jupyter\\kernels\\tslab\n",
    "```\n",
    "\n"
   ]
  },
  {
   "cell_type": "code",
   "execution_count": 1,
   "id": "e0aefc33",
   "metadata": {},
   "outputs": [
    {
     "name": "stdout",
     "output_type": "stream",
     "text": [
      "hello\n"
     ]
    }
   ],
   "source": [
    "const str = 'hello';\n",
    "str"
   ]
  },
  {
   "cell_type": "code",
   "execution_count": 2,
   "id": "722af2d5",
   "metadata": {},
   "outputs": [
    {
     "name": "stdout",
     "output_type": "stream",
     "text": [
      "string\n"
     ]
    }
   ],
   "source": [
    "const str2:string = '123'\n",
    "typeof(str2)"
   ]
  }
 ],
 "metadata": {
  "kernelspec": {
   "display_name": "TypeScript",
   "language": "typescript",
   "name": "tslab"
  },
  "language_info": {
   "codemirror_mode": {
    "mode": "typescript",
    "name": "javascript",
    "typescript": true
   },
   "file_extension": ".ts",
   "mimetype": "text/typescript",
   "name": "typescript",
   "version": "3.7.2"
  }
 },
 "nbformat": 4,
 "nbformat_minor": 5
}
