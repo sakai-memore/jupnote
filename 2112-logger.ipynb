{
 "cells": [
  {
   "cell_type": "markdown",
   "id": "54e4d071",
   "metadata": {},
   "source": [
    "https://www.python.ambitious-engineer.com/archives/725\n",
    "\n",
    "**FIXME** : logging on a log file"
   ]
  },
  {
   "cell_type": "code",
   "execution_count": 1,
   "id": "5c7e8de6",
   "metadata": {},
   "outputs": [
    {
     "name": "stdout",
     "output_type": "stream",
     "text": [
      "2021-12-29 20:25:36,575 __main__ INFO //-----------// start.\n",
      "2021-12-29 20:25:36,580 __main__ DEBUG debug print\n",
      "2021-12-29 20:25:36,586 __main__ INFO //-----------// end...\n"
     ]
    }
   ],
   "source": [
    "import logging.config\n",
    "import json\n",
    "\n",
    "## logger.config\n",
    "logging.config.dictConfig(json.loads(open(\"config/logger.conf.json\", encoding='UTF-8').read()))\n",
    "## get logger\n",
    "logger = logging.getLogger(__name__)\n",
    "logger.setLevel(logging.DEBUG)\n",
    "##\n",
    "logger.info(\"//-----------// start.\")\n",
    "logger.debug(\"debug print\")\n",
    "logger.info(\"//-----------// end...\")\n"
   ]
  },
  {
   "cell_type": "markdown",
   "id": "ae53a049",
   "metadata": {},
   "source": [
    "```json:config.logger.conf.json\n",
    "{\n",
    "  \"version\": 1,\n",
    "  \"formatters\": {\n",
    "    \"fmt1\": {\n",
    "      \"format\": \"%(asctime)s %(name)s %(levelname)s %(message)s\"\n",
    "    }   \n",
    "  },  \n",
    "  \"handlers\": {\n",
    "    \"h1\": {\n",
    "      \"class\": \"logging.StreamHandler\",\n",
    "      \"level\": \"DEBUG\",\n",
    "      \"formatter\": \"fmt1\",\n",
    "      \"stream\": \"ext://sys.stdout\"\n",
    "    },\n",
    "    \"h2\": {\n",
    "      \"class\": \"logging.StreamHandler\",\n",
    "      \"level\": \"DEBUG\",\n",
    "      \"formatter\": \"fmt1\",\n",
    "      \"stream\": \"ext://sys.stdout\"\n",
    "    }\n",
    "  },  \n",
    "  \"loggers\": {\n",
    "    \"console\": {\n",
    "      \"handlers\": [\n",
    "        \"h2\"\n",
    "      ],  \n",
    "      \"level\": \"DEBUG\",\n",
    "      \"qualname\": \"sample\",\n",
    "      \"propagate\": \"no\"\n",
    "    }\n",
    "  },  \n",
    "  \"root\": {\n",
    "    \"level\": \"DEBUG\",\n",
    "    \"handlers\": [\n",
    "      \"h1\"\n",
    "    ]   \n",
    "  }\n",
    "}\n",
    "```"
   ]
  }
 ],
 "metadata": {
  "kernelspec": {
   "display_name": "jup",
   "language": "python",
   "name": "python3"
  },
  "language_info": {
   "codemirror_mode": {
    "name": "ipython",
    "version": 3
   },
   "file_extension": ".py",
   "mimetype": "text/x-python",
   "name": "python",
   "nbconvert_exporter": "python",
   "pygments_lexer": "ipython3",
   "version": "3.9.7"
  }
 },
 "nbformat": 4,
 "nbformat_minor": 5
}
