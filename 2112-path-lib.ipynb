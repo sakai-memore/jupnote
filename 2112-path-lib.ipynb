{
 "cells": [
  {
   "cell_type": "markdown",
   "id": "d6487abf",
   "metadata": {},
   "source": [
    "## reference\n",
    "- https://docs.python.org/3/library/pathlib.html"
   ]
  },
  {
   "cell_type": "markdown",
   "id": "f4932aec",
   "metadata": {},
   "source": [
    "## execution "
   ]
  },
  {
   "cell_type": "code",
   "execution_count": 1,
   "id": "518d5c10",
   "metadata": {},
   "outputs": [],
   "source": [
    "from pathlib import Path, PurePath"
   ]
  },
  {
   "cell_type": "code",
   "execution_count": 2,
   "id": "a3ffbdf9",
   "metadata": {},
   "outputs": [
    {
     "data": {
      "text/plain": [
       "[WindowsPath('.ipynb_checkpoints'),\n",
       " WindowsPath('config'),\n",
       " WindowsPath('data'),\n",
       " WindowsPath('__pycache__')]"
      ]
     },
     "execution_count": 2,
     "metadata": {},
     "output_type": "execute_result"
    }
   ],
   "source": [
    "p = Path('.')\n",
    "\n",
    "[itm for itm in p.iterdir() if itm.is_dir()]"
   ]
  },
  {
   "cell_type": "code",
   "execution_count": 3,
   "id": "55270968",
   "metadata": {},
   "outputs": [
    {
     "data": {
      "text/plain": [
       "[WindowsPath('2112-awesome-slugify.ipynb'),\n",
       " WindowsPath('2112-collections-basic.ipynb'),\n",
       " WindowsPath('2112-docops.ipynb'),\n",
       " WindowsPath('2112-dynaconf.ipynb'),\n",
       " WindowsPath('2112-Hello-jupyter.ipynb'),\n",
       " WindowsPath('2112-jinja2.ipynb'),\n",
       " WindowsPath('2112-js-note.ipynb'),\n",
       " WindowsPath('2112-logger.ipynb'),\n",
       " WindowsPath('2112-path-lib.ipynb'),\n",
       " WindowsPath('2112-pendulum-time-lib.ipynb'),\n",
       " WindowsPath('2112-pickledb.ipynb'),\n",
       " WindowsPath('2112-powershell-sample.ipynb'),\n",
       " WindowsPath('2112-strings-library-basic.ipynb'),\n",
       " WindowsPath('2112-tinydb.ipynb'),\n",
       " WindowsPath('2112-xmltodict.ipynb'),\n",
       " WindowsPath('.ipynb_checkpoints/2112-awesome-slugify-checkpoint.ipynb'),\n",
       " WindowsPath('.ipynb_checkpoints/2112-collections-basic-checkpoint.ipynb'),\n",
       " WindowsPath('.ipynb_checkpoints/2112-docops-checkpoint.ipynb'),\n",
       " WindowsPath('.ipynb_checkpoints/2112-dynaconf-checkpoint.ipynb'),\n",
       " WindowsPath('.ipynb_checkpoints/2112-Hello-jupyter-checkpoint.ipynb'),\n",
       " WindowsPath('.ipynb_checkpoints/2112-jinja2-checkpoint.ipynb'),\n",
       " WindowsPath('.ipynb_checkpoints/2112-js-note-checkpoint.ipynb'),\n",
       " WindowsPath('.ipynb_checkpoints/2112-logger-checkpoint.ipynb'),\n",
       " WindowsPath('.ipynb_checkpoints/2112-path-lib-checkpoint.ipynb'),\n",
       " WindowsPath('.ipynb_checkpoints/2112-pendulum-time-lib-checkpoint.ipynb'),\n",
       " WindowsPath('.ipynb_checkpoints/2112-pickledb-checkpoint.ipynb'),\n",
       " WindowsPath('.ipynb_checkpoints/2112-powershell-sample-checkpoint.ipynb'),\n",
       " WindowsPath('.ipynb_checkpoints/2112-strings-library-basic-checkpoint.ipynb'),\n",
       " WindowsPath('.ipynb_checkpoints/2112-tinydb-checkpoint.ipynb'),\n",
       " WindowsPath('.ipynb_checkpoints/2112-xmltodict-checkpoint.ipynb')]"
      ]
     },
     "execution_count": 3,
     "metadata": {},
     "output_type": "execute_result"
    }
   ],
   "source": [
    "list(p.glob('./**/*.ipynb'))"
   ]
  },
  {
   "cell_type": "code",
   "execution_count": 4,
   "id": "3e97c40e",
   "metadata": {},
   "outputs": [
    {
     "name": "stdout",
     "output_type": "stream",
     "text": [
      ".env\n",
      ".gitignore\n",
      "2112-awesome-slugify.ipynb\n",
      "2112-collections-basic.ipynb\n",
      "2112-docops.ipynb\n",
      "2112-dynaconf.ipynb\n",
      "2112-Hello-jupyter.ipynb\n",
      "2112-jinja2.ipynb\n",
      "2112-js-note.ipynb\n",
      "2112-logger.ipynb\n",
      "2112-path-lib.ipynb\n",
      "2112-pendulum-time-lib.ipynb\n",
      "2112-pickledb.ipynb\n",
      "2112-powershell-sample.ipynb\n",
      "2112-strings-library-basic.ipynb\n",
      "2112-tinydb.ipynb\n",
      "2112-xmltodict.ipynb\n",
      "config-sample.py\n",
      "logger-sample.py\n",
      "requirements-bak.txt\n"
     ]
    }
   ],
   "source": [
    "for itm in p.iterdir():\n",
    "    if itm.is_file():\n",
    "        print(itm)"
   ]
  },
  {
   "cell_type": "code",
   "execution_count": 5,
   "id": "fa448edb",
   "metadata": {},
   "outputs": [
    {
     "data": {
      "text/plain": [
       "WindowsPath('G:/workspace/jupnote/.ipynb_checkpoint')"
      ]
     },
     "execution_count": 5,
     "metadata": {},
     "output_type": "execute_result"
    }
   ],
   "source": [
    "Path(Path.cwd(),Path('.ipynb_checkpoint')) ## FIXME"
   ]
  },
  {
   "cell_type": "code",
   "execution_count": 6,
   "id": "f17d850d",
   "metadata": {},
   "outputs": [
    {
     "data": {
      "text/plain": [
       "WindowsPath('G:/workspace/jupnote')"
      ]
     },
     "execution_count": 6,
     "metadata": {},
     "output_type": "execute_result"
    }
   ],
   "source": [
    "Path.cwd()"
   ]
  },
  {
   "cell_type": "code",
   "execution_count": 7,
   "id": "72b36a33",
   "metadata": {},
   "outputs": [
    {
     "data": {
      "text/plain": [
       "pathlib.WindowsPath"
      ]
     },
     "execution_count": 7,
     "metadata": {},
     "output_type": "execute_result"
    }
   ],
   "source": [
    "pth = Path('g:/workspace/jupnote', '.ipyb_checkpoint')\n",
    "type(pth)"
   ]
  },
  {
   "cell_type": "code",
   "execution_count": 8,
   "id": "0eb980ab",
   "metadata": {},
   "outputs": [
    {
     "name": "stdout",
     "output_type": "stream",
     "text": [
      "g:\\workspace\\jupnote\\.ipyb_checkpoint\n"
     ]
    }
   ],
   "source": [
    "print(pth)"
   ]
  },
  {
   "cell_type": "markdown",
   "id": "c5c288f1",
   "metadata": {},
   "source": [
    "https://dot-blog.jp/news/python-pathlib-path-join/"
   ]
  },
  {
   "cell_type": "code",
   "execution_count": 9,
   "id": "f06cf78e",
   "metadata": {},
   "outputs": [
    {
     "data": {
      "text/plain": [
       "WindowsPath('G:/workspace/jupnote/.ipynb_checkpoint')"
      ]
     },
     "execution_count": 9,
     "metadata": {},
     "output_type": "execute_result"
    }
   ],
   "source": [
    "p2 = Path.cwd() / Path('.ipynb_checkpoint')\n",
    "p2\n"
   ]
  }
 ],
 "metadata": {
  "kernelspec": {
   "display_name": "jup",
   "language": "python",
   "name": "python3"
  },
  "language_info": {
   "codemirror_mode": {
    "name": "ipython",
    "version": 3
   },
   "file_extension": ".py",
   "mimetype": "text/x-python",
   "name": "python",
   "nbconvert_exporter": "python",
   "pygments_lexer": "ipython3",
   "version": "3.9.7"
  }
 },
 "nbformat": 4,
 "nbformat_minor": 5
}
