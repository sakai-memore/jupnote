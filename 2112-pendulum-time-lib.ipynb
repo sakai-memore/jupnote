{
 "cells": [
  {
   "cell_type": "markdown",
   "id": "47be386a",
   "metadata": {},
   "source": [
    "### reference\n",
    "- https://github.com/sdispater/pendulum/tree/994e466e0fa620a769e70af28d75d1ede383be11\n"
   ]
  },
  {
   "cell_type": "markdown",
   "id": "5e3d86b1",
   "metadata": {},
   "source": [
    "### execution of script"
   ]
  },
  {
   "cell_type": "code",
   "execution_count": 1,
   "id": "b5f73941",
   "metadata": {},
   "outputs": [],
   "source": [
    "import pendulum"
   ]
  },
  {
   "cell_type": "code",
   "execution_count": 2,
   "id": "e46c7e6e",
   "metadata": {},
   "outputs": [
    {
     "data": {
      "text/plain": [
       "DateTime(2021, 12, 29, 20, 32, 31, 916982, tzinfo=Timezone('Asia/Tokyo'))"
      ]
     },
     "execution_count": 2,
     "metadata": {},
     "output_type": "execute_result"
    }
   ],
   "source": [
    "dtm = pendulum.now()\n",
    "dtm"
   ]
  },
  {
   "cell_type": "code",
   "execution_count": 3,
   "id": "e42cb483",
   "metadata": {},
   "outputs": [
    {
     "data": {
      "text/plain": [
       "['EPOCH',\n",
       " '_EPOCH',\n",
       " '_FORMATS',\n",
       " '_MODIFIERS_VALID_UNITS',\n",
       " '__add__',\n",
       " '__class__',\n",
       " '__delattr__',\n",
       " '__dict__',\n",
       " '__dir__',\n",
       " '__doc__',\n",
       " '__eq__',\n",
       " '__format__',\n",
       " '__ge__',\n",
       " '__getattribute__',\n",
       " '__getnewargs__',\n",
       " '__gt__',\n",
       " '__hash__',\n",
       " '__init__',\n",
       " '__init_subclass__',\n",
       " '__le__',\n",
       " '__lt__',\n",
       " '__module__',\n",
       " '__ne__',\n",
       " '__new__',\n",
       " '__radd__',\n",
       " '__reduce__',\n",
       " '__reduce_ex__',\n",
       " '__repr__',\n",
       " '__rsub__',\n",
       " '__setattr__',\n",
       " '__sizeof__',\n",
       " '__str__',\n",
       " '__sub__',\n",
       " '__subclasshook__',\n",
       " '__weakref__',\n",
       " '_add_timedelta',\n",
       " '_add_timedelta_',\n",
       " '_cmp',\n",
       " '_days',\n",
       " '_end_of_century',\n",
       " '_end_of_day',\n",
       " '_end_of_decade',\n",
       " '_end_of_hour',\n",
       " '_end_of_minute',\n",
       " '_end_of_month',\n",
       " '_end_of_second',\n",
       " '_end_of_week',\n",
       " '_end_of_year',\n",
       " '_first_of_month',\n",
       " '_first_of_quarter',\n",
       " '_first_of_year',\n",
       " '_formatter',\n",
       " '_getstate',\n",
       " '_last_of_month',\n",
       " '_last_of_quarter',\n",
       " '_last_of_year',\n",
       " '_nth_of_month',\n",
       " '_nth_of_quarter',\n",
       " '_nth_of_year',\n",
       " '_start_of_century',\n",
       " '_start_of_day',\n",
       " '_start_of_decade',\n",
       " '_start_of_hour',\n",
       " '_start_of_minute',\n",
       " '_start_of_month',\n",
       " '_start_of_second',\n",
       " '_start_of_week',\n",
       " '_start_of_year',\n",
       " '_subtract_timedelta',\n",
       " '_to_string',\n",
       " 'add',\n",
       " 'age',\n",
       " 'astimezone',\n",
       " 'at',\n",
       " 'average',\n",
       " 'closest',\n",
       " 'combine',\n",
       " 'ctime',\n",
       " 'date',\n",
       " 'day',\n",
       " 'day_of_week',\n",
       " 'day_of_year',\n",
       " 'days_in_month',\n",
       " 'diff',\n",
       " 'diff_for_humans',\n",
       " 'dst',\n",
       " 'end_of',\n",
       " 'farthest',\n",
       " 'first_of',\n",
       " 'float_timestamp',\n",
       " 'fold',\n",
       " 'for_json',\n",
       " 'format',\n",
       " 'fromisocalendar',\n",
       " 'fromisoformat',\n",
       " 'fromordinal',\n",
       " 'fromtimestamp',\n",
       " 'get_offset',\n",
       " 'hour',\n",
       " 'in_timezone',\n",
       " 'in_tz',\n",
       " 'int_timestamp',\n",
       " 'is_anniversary',\n",
       " 'is_birthday',\n",
       " 'is_dst',\n",
       " 'is_future',\n",
       " 'is_leap_year',\n",
       " 'is_local',\n",
       " 'is_long_year',\n",
       " 'is_past',\n",
       " 'is_same_day',\n",
       " 'is_utc',\n",
       " 'isocalendar',\n",
       " 'isoformat',\n",
       " 'isoweekday',\n",
       " 'last_of',\n",
       " 'max',\n",
       " 'microsecond',\n",
       " 'min',\n",
       " 'minute',\n",
       " 'month',\n",
       " 'naive',\n",
       " 'next',\n",
       " 'now',\n",
       " 'nth_of',\n",
       " 'offset',\n",
       " 'offset_hours',\n",
       " 'on',\n",
       " 'previous',\n",
       " 'quarter',\n",
       " 'replace',\n",
       " 'resolution',\n",
       " 'second',\n",
       " 'set',\n",
       " 'start_of',\n",
       " 'strftime',\n",
       " 'strptime',\n",
       " 'subtract',\n",
       " 'time',\n",
       " 'timestamp',\n",
       " 'timetuple',\n",
       " 'timetz',\n",
       " 'timezone',\n",
       " 'timezone_name',\n",
       " 'to_atom_string',\n",
       " 'to_cookie_string',\n",
       " 'to_date_string',\n",
       " 'to_datetime_string',\n",
       " 'to_day_datetime_string',\n",
       " 'to_formatted_date_string',\n",
       " 'to_iso8601_string',\n",
       " 'to_rfc1036_string',\n",
       " 'to_rfc1123_string',\n",
       " 'to_rfc2822_string',\n",
       " 'to_rfc3339_string',\n",
       " 'to_rfc822_string',\n",
       " 'to_rfc850_string',\n",
       " 'to_rss_string',\n",
       " 'to_time_string',\n",
       " 'to_w3c_string',\n",
       " 'today',\n",
       " 'toordinal',\n",
       " 'tz',\n",
       " 'tzinfo',\n",
       " 'tzname',\n",
       " 'utcfromtimestamp',\n",
       " 'utcnow',\n",
       " 'utcoffset',\n",
       " 'utctimetuple',\n",
       " 'week_of_month',\n",
       " 'week_of_year',\n",
       " 'weekday',\n",
       " 'year']"
      ]
     },
     "execution_count": 3,
     "metadata": {},
     "output_type": "execute_result"
    }
   ],
   "source": [
    "dir(dtm)"
   ]
  },
  {
   "cell_type": "code",
   "execution_count": 4,
   "id": "b47db7ae",
   "metadata": {},
   "outputs": [
    {
     "data": {
      "text/plain": [
       "'2021-12-29T20:32:31.916982+09:00'"
      ]
     },
     "execution_count": 4,
     "metadata": {},
     "output_type": "execute_result"
    }
   ],
   "source": [
    "dtm.isoformat()"
   ]
  },
  {
   "cell_type": "code",
   "execution_count": 5,
   "id": "81cd8142",
   "metadata": {},
   "outputs": [
    {
     "data": {
      "text/plain": [
       "'2021-12-29'"
      ]
     },
     "execution_count": 5,
     "metadata": {},
     "output_type": "execute_result"
    }
   ],
   "source": [
    "dtm.format('YYYY-MM-DD')"
   ]
  },
  {
   "cell_type": "code",
   "execution_count": 6,
   "id": "c4c6596d",
   "metadata": {},
   "outputs": [
    {
     "data": {
      "text/plain": [
       "'211229_203231.bpmn'"
      ]
     },
     "execution_count": 6,
     "metadata": {},
     "output_type": "execute_result"
    }
   ],
   "source": [
    "dtm.format('YYMMDD_HHmmss') + '.bpmn'"
   ]
  }
 ],
 "metadata": {
  "kernelspec": {
   "display_name": "jup",
   "language": "python",
   "name": "python3"
  },
  "language_info": {
   "codemirror_mode": {
    "name": "ipython",
    "version": 3
   },
   "file_extension": ".py",
   "mimetype": "text/x-python",
   "name": "python",
   "nbconvert_exporter": "python",
   "pygments_lexer": "ipython3",
   "version": "3.9.7"
  }
 },
 "nbformat": 4,
 "nbformat_minor": 5
}
