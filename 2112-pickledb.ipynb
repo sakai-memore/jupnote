{
 "cells": [
  {
   "cell_type": "markdown",
   "id": "14789e1a",
   "metadata": {},
   "source": [
    "## reference\n",
    "- https://scrapbox.io/PythonOsaka/pickleDBを使ってみよう\n",
    "\n",
    "- current commands\n",
    "  - https://pythonhosted.org/pickleDB/commands.html"
   ]
  },
  {
   "cell_type": "code",
   "execution_count": 1,
   "id": "b39ce41e",
   "metadata": {},
   "outputs": [],
   "source": [
    "import pickledb\n",
    "\n",
    "db = pickledb.load('data/pickle.json', False)\n"
   ]
  },
  {
   "cell_type": "code",
   "execution_count": 2,
   "id": "4639698f",
   "metadata": {},
   "outputs": [
    {
     "data": {
      "text/plain": [
       "True"
      ]
     },
     "execution_count": 2,
     "metadata": {},
     "output_type": "execute_result"
    }
   ],
   "source": [
    "data = ['one', 'two', 'three', 'four', 'five', 'six']\n",
    "\n",
    "for i, dt in enumerate(data, start=1):\n",
    "    db.set(str(i), dt) ## key:string, data: string\n",
    "    \n",
    "db.dump()\n",
    "\n"
   ]
  },
  {
   "cell_type": "markdown",
   "id": "35e92a78",
   "metadata": {},
   "source": [
    "```\n",
    "(jup) G:\\workspace\\jupnote\\data>type pickle.json\n",
    "{\"1\": \"one\", \"2\": \"two\", \"3\": \"three\", \"4\": \"four\", \"5\": \"five\", \"6\": \"six\"}\n",
    "(jup) G:\\workspace\\jupnote\\data>type pickle.json | python -m json.tool\n",
    "{\n",
    "    \"1\": \"one\",\n",
    "    \"2\": \"two\",\n",
    "    \"3\": \"three\",\n",
    "    \"4\": \"four\",\n",
    "    \"5\": \"five\",\n",
    "    \"6\": \"six\"\n",
    "}\n",
    "```"
   ]
  },
  {
   "cell_type": "code",
   "execution_count": 3,
   "id": "d1dcc81d",
   "metadata": {},
   "outputs": [
    {
     "name": "stdout",
     "output_type": "stream",
     "text": [
      "1 one\n",
      "3 three\n",
      "4 four\n",
      "5 five\n",
      "6 six\n",
      "1234 {\"name\": \"pickledb\", \"format\": \"json\"}\n",
      "2 two\n"
     ]
    }
   ],
   "source": [
    "for k in db.getall():\n",
    "    print(k, db.get(k))\n"
   ]
  },
  {
   "cell_type": "code",
   "execution_count": 4,
   "id": "13e5270d",
   "metadata": {},
   "outputs": [
    {
     "data": {
      "text/plain": [
       "dict_keys(['1', '3', '4', '5', '6', '1234', '2'])"
      ]
     },
     "execution_count": 4,
     "metadata": {},
     "output_type": "execute_result"
    }
   ],
   "source": [
    "db.getall() ## Keys"
   ]
  },
  {
   "cell_type": "code",
   "execution_count": 5,
   "id": "8df6939d",
   "metadata": {},
   "outputs": [
    {
     "data": {
      "text/plain": [
       "dict_keys(['1', '3', '4', '5', '6', '1234'])"
      ]
     },
     "execution_count": 5,
     "metadata": {},
     "output_type": "execute_result"
    }
   ],
   "source": [
    "db.rem('2') ## remove key\n",
    "db.getall()"
   ]
  },
  {
   "cell_type": "code",
   "execution_count": 6,
   "id": "bcfd9a21",
   "metadata": {},
   "outputs": [
    {
     "data": {
      "text/plain": [
       "True"
      ]
     },
     "execution_count": 6,
     "metadata": {},
     "output_type": "execute_result"
    }
   ],
   "source": [
    "db.set('1234','{\"name\": \"pickledb\", \"format\": \"json\"}')"
   ]
  },
  {
   "cell_type": "code",
   "execution_count": 7,
   "id": "5671ea18",
   "metadata": {},
   "outputs": [
    {
     "data": {
      "text/plain": [
       "{'name': 'pickledb', 'format': 'json'}"
      ]
     },
     "execution_count": 7,
     "metadata": {},
     "output_type": "execute_result"
    }
   ],
   "source": [
    "import json\n",
    "\n",
    "json_str = db.get('1234')\n",
    "json.loads(json_str)"
   ]
  },
  {
   "cell_type": "markdown",
   "id": "68121273",
   "metadata": {},
   "source": [
    "### referencec\n",
    "- https://docs.python.org/3/library/json.html"
   ]
  },
  {
   "cell_type": "code",
   "execution_count": 8,
   "id": "565effc3",
   "metadata": {},
   "outputs": [
    {
     "data": {
      "text/plain": [
       "True"
      ]
     },
     "execution_count": 8,
     "metadata": {},
     "output_type": "execute_result"
    }
   ],
   "source": [
    "## dump db , can not persist database\n",
    "db.dump()"
   ]
  },
  {
   "cell_type": "markdown",
   "id": "c01eb908",
   "metadata": {},
   "source": [
    "```\n",
    "(jup) G:\\workspace\\jupnote\\data>type pickle.json | python -m json.tool\n",
    "{\n",
    "    \"1\": \"one\",\n",
    "    \"3\": \"three\",\n",
    "    \"4\": \"four\",\n",
    "    \"5\": \"five\",\n",
    "    \"6\": \"six\",\n",
    "    \"1234\": \"{\\\"name\\\": \\\"pickledb\\\", \\\"format\\\": \\\"json\\\"}\"\n",
    "}\n",
    "```"
   ]
  },
  {
   "cell_type": "markdown",
   "id": "19f0923c",
   "metadata": {},
   "source": [
    "https://jsonformatter.org/json-parser"
   ]
  }
 ],
 "metadata": {
  "kernelspec": {
   "display_name": "jup",
   "language": "python",
   "name": "python3"
  },
  "language_info": {
   "codemirror_mode": {
    "name": "ipython",
    "version": 3
   },
   "file_extension": ".py",
   "mimetype": "text/x-python",
   "name": "python",
   "nbconvert_exporter": "python",
   "pygments_lexer": "ipython3",
   "version": "3.9.7"
  }
 },
 "nbformat": 4,
 "nbformat_minor": 5
}
