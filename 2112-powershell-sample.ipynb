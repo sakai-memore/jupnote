{
 "cells": [
  {
   "cell_type": "markdown",
   "id": "3ade7cbb",
   "metadata": {},
   "source": [
    "# installation\n",
    "## pip install powershell_kernel\n",
    "\n",
    "### reference\n",
    "- https://github.com/vors/jupyter-powershell\n",
    "- https://devblogs.microsoft.com/powershell/public-preview-of-powershell-support-in-jupyter-notebooks/\n",
    "\n",
    "```cmd\n",
    "G:\\>conda activate jup\n",
    "\n",
    "(jup) G:\\>pip install powershell_kernel\n",
    "Collecting powershell_kernel\n",
    "  Downloading powershell_kernel-0.1.4.tar.gz (6.6 kB)\n",
    "Building wheels for collected packages: powershell-kernel\n",
    "  Building wheel for powershell-kernel (setup.py) ... done\n",
    "  Created wheel for powershell-kernel: filename=powershell_kernel-0.1.4-py3-none-any.whl size=7921 sha256=c791427c3172d438713690b6fdafbf8e400a57e1901f65c43b198760855d4366\n",
    "  Stored in directory: c:\\users\\sakai\\appdata\\local\\pip\\cache\\wheels\\f0\\9d\\b5\\e891804aa76636f56598460c22a2d2c76be3d37098afede4cd\n",
    "Successfully built powershell-kernel\n",
    "Installing collected packages: powershell-kernel\n",
    "Successfully installed powershell-kernel-0.1.4\n",
    "\n",
    "(jup) G:\\>python -m powershell_kernel.install\n",
    "Using powershell_command='powershell'\n",
    "Installing IPython kernel spec\n",
    "\n",
    "(jup) G:\\>jupyter kernelspec list\n",
    "Available kernels:\n",
    "  jslab         C:\\Users\\sakai\\AppData\\Roaming\\jupyter\\kernels\\jslab\n",
    "  powershell    C:\\Users\\sakai\\AppData\\Roaming\\jupyter\\kernels\\powershell\n",
    "  python3       C:\\Users\\sakai\\AppData\\Roaming\\jupyter\\kernels\\python3\n",
    "  tslab         C:\\Users\\sakai\\AppData\\Roaming\\jupyter\\kernels\\tslab\n",
    "\n",
    "(jup) G:\\>\n",
    "```\n"
   ]
  },
  {
   "cell_type": "code",
   "execution_count": 1,
   "id": "cb4e8275",
   "metadata": {},
   "outputs": [
    {
     "name": "stdout",
     "output_type": "stream",
     "text": [
      "\n",
      "Name                           Value                                                                                   \n",
      "----                           -----                                                                                   \n",
      "PSVersion                      5.1.19041.1320                                                                          \n",
      "PSEdition                      Desktop                                                                                 \n",
      "PSCompatibleVersions           {1.0, 2.0, 3.0, 4.0...}                                                                 \n",
      "BuildVersion                   10.0.19041.1320                                                                         \n",
      "CLRVersion                     4.0.30319.42000                                                                         \n",
      "WSManStackVersion              3.0                                                                                     \n",
      "PSRemotingProtocolVersion      2.3                                                                                     \n",
      "SerializationVersion           1.1.0.1                                                                                 \n",
      "\n",
      "\n"
     ]
    }
   ],
   "source": [
    "$PSVersionTable"
   ]
  }
 ],
 "metadata": {
  "kernelspec": {
   "display_name": "PowerShell",
   "language": "powershell",
   "name": "powershell"
  },
  "language_info": {
   "codemirror_mode": "shell",
   "file_extension": ".ps1",
   "mimetype": "text/x-sh",
   "name": "powershell"
  }
 },
 "nbformat": 4,
 "nbformat_minor": 5
}
