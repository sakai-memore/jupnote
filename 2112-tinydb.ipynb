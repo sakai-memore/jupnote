{
 "cells": [
  {
   "cell_type": "markdown",
   "id": "83a62f90",
   "metadata": {},
   "source": [
    "## reference\n",
    "- https://office54.net/python/module/python-database-tinydb\n",
    "- https://python.hotexamples.com/examples/tinydb/TinyDB/get/python-tinydb-get-method-examples.html\n",
    "      + tinydbをClass化\n",
    "- https://github.com/msiemens/tinydb"
   ]
  },
  {
   "cell_type": "code",
   "execution_count": 1,
   "id": "56124adb",
   "metadata": {},
   "outputs": [],
   "source": [
    "from tinydb import TinyDB, Query"
   ]
  },
  {
   "cell_type": "code",
   "execution_count": 2,
   "id": "fea4d3e5",
   "metadata": {},
   "outputs": [],
   "source": [
    "tdb = TinyDB('data/tiny.json')\n"
   ]
  },
  {
   "cell_type": "code",
   "execution_count": 3,
   "id": "e83ddacb",
   "metadata": {},
   "outputs": [],
   "source": [
    "tdb.truncate()"
   ]
  },
  {
   "cell_type": "code",
   "execution_count": 4,
   "id": "d0e85eb5",
   "metadata": {},
   "outputs": [
    {
     "data": {
      "text/plain": [
       "{'name': 'John', 'age': 30, 'city': 'NY'}"
      ]
     },
     "execution_count": 4,
     "metadata": {},
     "output_type": "execute_result"
    }
   ],
   "source": [
    "json1 = {\n",
    "    \"name\": 'John',\n",
    "    \"age\": 30,\n",
    "    \"city\": \"NY\"\n",
    "}\n",
    "json1"
   ]
  },
  {
   "cell_type": "code",
   "execution_count": 5,
   "id": "2f8e8b07",
   "metadata": {},
   "outputs": [
    {
     "data": {
      "text/plain": [
       "{'name': 'Paul', 'age': 28, 'city': 'London'}"
      ]
     },
     "execution_count": 5,
     "metadata": {},
     "output_type": "execute_result"
    }
   ],
   "source": [
    "json2 = {\n",
    "    \"name\": 'Paul',\n",
    "    \"age\": 28,\n",
    "    \"city\": \"London\"\n",
    "}\n",
    "json2"
   ]
  },
  {
   "cell_type": "code",
   "execution_count": 6,
   "id": "8adec9af",
   "metadata": {},
   "outputs": [
    {
     "data": {
      "text/plain": [
       "'{\"name\": \"John\", \"age\": 30, \"city\": \"NY\"}'"
      ]
     },
     "execution_count": 6,
     "metadata": {},
     "output_type": "execute_result"
    }
   ],
   "source": [
    "import json\n",
    "\n",
    "json1_str = json.dumps(json1)\n",
    "json1_str"
   ]
  },
  {
   "cell_type": "markdown",
   "id": "ca92a061",
   "metadata": {},
   "source": [
    "- https://www.w3schools.com/python/python_json.asp"
   ]
  },
  {
   "cell_type": "code",
   "execution_count": 7,
   "id": "f11c748d",
   "metadata": {},
   "outputs": [
    {
     "data": {
      "text/plain": [
       "{'name': 'George', 'age': 27, 'city': 'Livepool'}"
      ]
     },
     "execution_count": 7,
     "metadata": {},
     "output_type": "execute_result"
    }
   ],
   "source": [
    "json3_str = '{\"name\": \"George\", \"age\": 27, \"city\": \"Livepool\"}'\n",
    "json3 = json.loads(json3_str)\n",
    "json3"
   ]
  },
  {
   "cell_type": "code",
   "execution_count": 8,
   "id": "a1582859",
   "metadata": {},
   "outputs": [
    {
     "data": {
      "text/plain": [
       "3"
      ]
     },
     "execution_count": 8,
     "metadata": {},
     "output_type": "execute_result"
    }
   ],
   "source": [
    "tdb.insert(json1)\n",
    "tdb.insert(json2)\n",
    "tdb.insert(json3)"
   ]
  },
  {
   "cell_type": "code",
   "execution_count": 9,
   "id": "4e136531",
   "metadata": {},
   "outputs": [
    {
     "data": {
      "text/plain": [
       "[{'name': 'John', 'age': 30, 'city': 'NY'},\n",
       " {'name': 'Paul', 'age': 28, 'city': 'London'},\n",
       " {'name': 'George', 'age': 27, 'city': 'Livepool'}]"
      ]
     },
     "execution_count": 9,
     "metadata": {},
     "output_type": "execute_result"
    }
   ],
   "source": [
    "tdb.all()"
   ]
  },
  {
   "cell_type": "code",
   "execution_count": 10,
   "id": "9028837a",
   "metadata": {},
   "outputs": [
    {
     "name": "stdout",
     "output_type": "stream",
     "text": [
      "{'name': 'John', 'age': 30, 'city': 'NY'}\n",
      "{'name': 'Paul', 'age': 28, 'city': 'London'}\n",
      "{'name': 'George', 'age': 27, 'city': 'Livepool'}\n"
     ]
    }
   ],
   "source": [
    "for itm in tdb:\n",
    "    print(itm)"
   ]
  },
  {
   "cell_type": "code",
   "execution_count": 11,
   "id": "2f9473bd",
   "metadata": {},
   "outputs": [
    {
     "data": {
      "text/plain": [
       "{'name': 'Ringo', 'age': 32, 'city': 'London'}"
      ]
     },
     "execution_count": 11,
     "metadata": {},
     "output_type": "execute_result"
    }
   ],
   "source": [
    "json4 = {\n",
    "    \"name\": 'Ringo',\n",
    "    \"age\": 32,\n",
    "    \"city\": \"London\"\n",
    "}\n",
    "json4"
   ]
  },
  {
   "cell_type": "code",
   "execution_count": 12,
   "id": "4e2ab08a",
   "metadata": {},
   "outputs": [
    {
     "name": "stdout",
     "output_type": "stream",
     "text": [
      "<TinyDB tables=['_default', 'users'], tables_count=2, default_table_documents_count=4, all_tables_documents_count=['_default=4', 'users=3']>\n"
     ]
    }
   ],
   "source": [
    "tdb.insert(json4)\n",
    "print(tdb)"
   ]
  },
  {
   "cell_type": "code",
   "execution_count": 13,
   "id": "77782817",
   "metadata": {},
   "outputs": [
    {
     "data": {
      "text/plain": [
       "[{'name': 'Paul', 'age': 28, 'city': 'London'},\n",
       " {'name': 'Ringo', 'age': 32, 'city': 'London'}]"
      ]
     },
     "execution_count": 13,
     "metadata": {},
     "output_type": "execute_result"
    }
   ],
   "source": [
    "Q = Query()\n",
    "tdb.search(Q.city == 'London')"
   ]
  },
  {
   "cell_type": "code",
   "execution_count": 14,
   "id": "cdb6e57d",
   "metadata": {},
   "outputs": [
    {
     "data": {
      "text/plain": [
       "{'name': 'Maria', 'age': 22, 'city': 'London', 'deleted': True}"
      ]
     },
     "execution_count": 14,
     "metadata": {},
     "output_type": "execute_result"
    }
   ],
   "source": [
    "json5 = {\n",
    "    \"name\": 'Maria',\n",
    "    \"age\": 22,\n",
    "    \"city\": \"London\", \n",
    "    \"deleted\": True\n",
    "}\n",
    "json5"
   ]
  },
  {
   "cell_type": "code",
   "execution_count": 15,
   "id": "7ed330a8",
   "metadata": {},
   "outputs": [
    {
     "data": {
      "text/plain": [
       "[{'name': 'Paul', 'age': 28, 'city': 'London'},\n",
       " {'name': 'Ringo', 'age': 32, 'city': 'London'},\n",
       " {'name': 'Maria', 'age': 22, 'city': 'London', 'deleted': True}]"
      ]
     },
     "execution_count": 15,
     "metadata": {},
     "output_type": "execute_result"
    }
   ],
   "source": [
    "tdb.insert(json5)\n",
    "tdb.search(Q.city == 'London')"
   ]
  },
  {
   "cell_type": "code",
   "execution_count": 16,
   "id": "cd02b5b3",
   "metadata": {},
   "outputs": [
    {
     "data": {
      "text/plain": [
       "[{'name': 'Maria', 'age': 22, 'city': 'London', 'deleted': True}]"
      ]
     },
     "execution_count": 16,
     "metadata": {},
     "output_type": "execute_result"
    }
   ],
   "source": [
    "tdb.search((Q.city == 'London' ) & (Q.deleted == True)) "
   ]
  },
  {
   "cell_type": "code",
   "execution_count": 17,
   "id": "01703ca1",
   "metadata": {},
   "outputs": [
    {
     "data": {
      "text/plain": [
       "[]"
      ]
     },
     "execution_count": 17,
     "metadata": {},
     "output_type": "execute_result"
    }
   ],
   "source": [
    "tdb.search((Q.city == 'London' ) & (Q.deleted != True)) "
   ]
  },
  {
   "cell_type": "code",
   "execution_count": 18,
   "id": "11abf839",
   "metadata": {},
   "outputs": [
    {
     "data": {
      "text/plain": [
       "{'firstName': 'Rack',\n",
       " 'lastName': 'Jackon',\n",
       " 'gender': 'man',\n",
       " 'age': 24,\n",
       " 'address': {'streetAddress': '126',\n",
       "  'city': 'San Jone',\n",
       "  'state': 'CA',\n",
       "  'postalCode': '394221'},\n",
       " 'phoneNumbers': [{'type': 'home', 'number': '7383627627'}]}"
      ]
     },
     "execution_count": 18,
     "metadata": {},
     "output_type": "execute_result"
    }
   ],
   "source": [
    "user1 = {\n",
    "    \"firstName\": \"Rack\",\n",
    "    \"lastName\": \"Jackon\",\n",
    "    \"gender\": \"man\",\n",
    "    \"age\": 24,\n",
    "    \"address\": {\n",
    "        \"streetAddress\": \"126\",\n",
    "        \"city\": \"San Jone\",\n",
    "        \"state\": \"CA\",\n",
    "        \"postalCode\": \"394221\"\n",
    "    },\n",
    "    \"phoneNumbers\": [\n",
    "        { \"type\": \"home\", \"number\": \"7383627627\" }\n",
    "    ]\n",
    "}\n",
    "user1"
   ]
  },
  {
   "cell_type": "code",
   "execution_count": 19,
   "id": "d0a784ab",
   "metadata": {},
   "outputs": [
    {
     "data": {
      "text/plain": [
       "{'firstName': 'John',\n",
       " 'lastName': 'Lennon',\n",
       " 'gender': 'man',\n",
       " 'age': 24,\n",
       " 'address': {'streetAddress': '126',\n",
       "  'city': 'San Jone',\n",
       "  'state': 'CA',\n",
       "  'postalCode': '394221'},\n",
       " 'phoneNumbers': [{'type': 'home', 'number': '738362999'}]}"
      ]
     },
     "execution_count": 19,
     "metadata": {},
     "output_type": "execute_result"
    }
   ],
   "source": [
    "user2 = {\n",
    "    \"firstName\": \"John\",\n",
    "    \"lastName\": \"Lennon\",\n",
    "    \"gender\": \"man\",\n",
    "    \"age\": 24,\n",
    "    \"address\": {\n",
    "        \"streetAddress\": \"126\",\n",
    "        \"city\": \"San Jone\",\n",
    "        \"state\": \"CA\",\n",
    "        \"postalCode\": \"394221\"\n",
    "    },\n",
    "    \"phoneNumbers\": [\n",
    "        { \"type\": \"home\", \"number\": \"738362999\" }\n",
    "    ]\n",
    "}\n",
    "user2"
   ]
  },
  {
   "cell_type": "code",
   "execution_count": 20,
   "id": "92f7f34e",
   "metadata": {},
   "outputs": [
    {
     "data": {
      "text/plain": [
       "{'firstName': 'Yoko',\n",
       " 'lastName': 'Lennon',\n",
       " 'gender': 'woman',\n",
       " 'age': 19,\n",
       " 'address': {'streetAddress': '126',\n",
       "  'city': 'San Jone',\n",
       "  'state': 'CA',\n",
       "  'postalCode': '394221'},\n",
       " 'phoneNumbers': [{'type': 'home', 'number': '738362999'}]}"
      ]
     },
     "execution_count": 20,
     "metadata": {},
     "output_type": "execute_result"
    }
   ],
   "source": [
    "user3 = {\n",
    "    \"firstName\": \"Yoko\",\n",
    "    \"lastName\": \"Lennon\",\n",
    "    \"gender\": \"woman\",\n",
    "    \"age\": 19,\n",
    "    \"address\": {\n",
    "        \"streetAddress\": \"126\",\n",
    "        \"city\": \"San Jone\",\n",
    "        \"state\": \"CA\",\n",
    "        \"postalCode\": \"394221\"\n",
    "    },\n",
    "    \"phoneNumbers\": [\n",
    "        { \"type\": \"home\", \"number\": \"738362999\" }\n",
    "    ]\n",
    "}\n",
    "user3"
   ]
  },
  {
   "cell_type": "code",
   "execution_count": 21,
   "id": "bf4fc44e",
   "metadata": {},
   "outputs": [
    {
     "data": {
      "text/plain": [
       "[{'firstName': 'Rack',\n",
       "  'lastName': 'Jackon',\n",
       "  'gender': 'man',\n",
       "  'age': 24,\n",
       "  'address': {'streetAddress': '126',\n",
       "   'city': 'San Jone',\n",
       "   'state': 'CA',\n",
       "   'postalCode': '394221'},\n",
       "  'phoneNumbers': [{'type': 'home', 'number': '7383627627'}]},\n",
       " {'firstName': 'John',\n",
       "  'lastName': 'Lennon',\n",
       "  'gender': 'man',\n",
       "  'age': 24,\n",
       "  'address': {'streetAddress': '126',\n",
       "   'city': 'San Jone',\n",
       "   'state': 'CA',\n",
       "   'postalCode': '394221'},\n",
       "  'phoneNumbers': [{'type': 'home', 'number': '738362999'}]},\n",
       " {'firstName': 'Yoko',\n",
       "  'lastName': 'Lennon',\n",
       "  'gender': 'woman',\n",
       "  'age': 19,\n",
       "  'address': {'streetAddress': '126',\n",
       "   'city': 'San Jone',\n",
       "   'state': 'CA',\n",
       "   'postalCode': '394221'},\n",
       "  'phoneNumbers': [{'type': 'home', 'number': '738362999'}]}]"
      ]
     },
     "execution_count": 21,
     "metadata": {},
     "output_type": "execute_result"
    }
   ],
   "source": [
    "user_tbl = tdb.table('users')\n",
    "user_tbl.truncate()\n",
    "user_tbl.insert(user1)\n",
    "user_tbl.insert(user2)\n",
    "user_tbl.insert(user3)\n",
    "user_tbl.all()"
   ]
  },
  {
   "cell_type": "code",
   "execution_count": 22,
   "id": "33df4ef6",
   "metadata": {},
   "outputs": [
    {
     "data": {
      "text/plain": [
       "[{'firstName': 'Rack',\n",
       "  'lastName': 'Jackon',\n",
       "  'gender': 'man',\n",
       "  'age': 24,\n",
       "  'address': {'streetAddress': '126',\n",
       "   'city': 'San Jone',\n",
       "   'state': 'CA',\n",
       "   'postalCode': '394221'},\n",
       "  'phoneNumbers': [{'type': 'home', 'number': '7383627627'}]},\n",
       " {'firstName': 'John',\n",
       "  'lastName': 'Lennon',\n",
       "  'gender': 'man',\n",
       "  'age': 24,\n",
       "  'address': {'streetAddress': '126',\n",
       "   'city': 'San Jone',\n",
       "   'state': 'CA',\n",
       "   'postalCode': '394221'},\n",
       "  'phoneNumbers': [{'type': 'home', 'number': '738362999'}]}]"
      ]
     },
     "execution_count": 22,
     "metadata": {},
     "output_type": "execute_result"
    }
   ],
   "source": [
    "user_tbl.search(Q.age >= 22)"
   ]
  },
  {
   "cell_type": "code",
   "execution_count": 23,
   "id": "73522756",
   "metadata": {},
   "outputs": [
    {
     "data": {
      "text/plain": [
       "[{'firstName': 'John',\n",
       "  'lastName': 'Lennon',\n",
       "  'gender': 'man',\n",
       "  'age': 24,\n",
       "  'address': {'streetAddress': '126',\n",
       "   'city': 'San Jone',\n",
       "   'state': 'CA',\n",
       "   'postalCode': '394221'},\n",
       "  'phoneNumbers': [{'type': 'home', 'number': '738362999'}]},\n",
       " {'firstName': 'Yoko',\n",
       "  'lastName': 'Lennon',\n",
       "  'gender': 'woman',\n",
       "  'age': 19,\n",
       "  'address': {'streetAddress': '126',\n",
       "   'city': 'San Jone',\n",
       "   'state': 'CA',\n",
       "   'postalCode': '394221'},\n",
       "  'phoneNumbers': [{'type': 'home', 'number': '738362999'}]}]"
      ]
     },
     "execution_count": 23,
     "metadata": {},
     "output_type": "execute_result"
    }
   ],
   "source": [
    "user_tbl.search((Q.lastName == 'Lennon') & (Q.address.city == 'San Jone'))"
   ]
  }
 ],
 "metadata": {
  "kernelspec": {
   "display_name": "jup",
   "language": "python",
   "name": "python3"
  },
  "language_info": {
   "codemirror_mode": {
    "name": "ipython",
    "version": 3
   },
   "file_extension": ".py",
   "mimetype": "text/x-python",
   "name": "python",
   "nbconvert_exporter": "python",
   "pygments_lexer": "ipython3",
   "version": "3.9.7"
  }
 },
 "nbformat": 4,
 "nbformat_minor": 5
}
