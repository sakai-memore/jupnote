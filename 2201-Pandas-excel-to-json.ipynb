{
 "cells": [
  {
   "cell_type": "code",
   "execution_count": 1,
   "id": "35a707cd",
   "metadata": {},
   "outputs": [],
   "source": [
    "import pandas as pd \n",
    "import os\n",
    "from pathlib import Path\n",
    "import json"
   ]
  },
  {
   "cell_type": "code",
   "execution_count": 2,
   "id": "54e8b9d6",
   "metadata": {},
   "outputs": [
    {
     "name": "stdout",
     "output_type": "stream",
     "text": [
      "DVDS_ACTORS_ORG.xlsx\n"
     ]
    }
   ],
   "source": [
    "xlsx_actors = Path('./','DVDS_ACTORS_ORG.xlsx')\n",
    "print(xlsx_actors)"
   ]
  },
  {
   "cell_type": "code",
   "execution_count": 3,
   "id": "8cbea6b1",
   "metadata": {},
   "outputs": [
    {
     "data": {
      "text/plain": [
       "True"
      ]
     },
     "execution_count": 3,
     "metadata": {},
     "output_type": "execute_result"
    }
   ],
   "source": [
    "xlsx_actors.is_file()"
   ]
  },
  {
   "cell_type": "code",
   "execution_count": 4,
   "id": "2081d32c",
   "metadata": {},
   "outputs": [
    {
     "data": {
      "text/plain": [
       "True"
      ]
     },
     "execution_count": 4,
     "metadata": {},
     "output_type": "execute_result"
    }
   ],
   "source": [
    "xlsx_actors.exists()"
   ]
  },
  {
   "cell_type": "code",
   "execution_count": 5,
   "id": "b578039a",
   "metadata": {},
   "outputs": [],
   "source": [
    "df_actors = pd.read_excel(str(xlsx_actors),header=1)"
   ]
  },
  {
   "cell_type": "code",
   "execution_count": 6,
   "id": "a8cbbd3c",
   "metadata": {},
   "outputs": [
    {
     "data": {
      "text/html": [
       "<div>\n",
       "<style scoped>\n",
       "    .dataframe tbody tr th:only-of-type {\n",
       "        vertical-align: middle;\n",
       "    }\n",
       "\n",
       "    .dataframe tbody tr th {\n",
       "        vertical-align: top;\n",
       "    }\n",
       "\n",
       "    .dataframe thead th {\n",
       "        text-align: right;\n",
       "    }\n",
       "</style>\n",
       "<table border=\"1\" class=\"dataframe\">\n",
       "  <thead>\n",
       "    <tr style=\"text-align: right;\">\n",
       "      <th></th>\n",
       "      <th>actor_id</th>\n",
       "      <th>first_name</th>\n",
       "      <th>last_name</th>\n",
       "      <th>last_update</th>\n",
       "    </tr>\n",
       "  </thead>\n",
       "  <tbody>\n",
       "    <tr>\n",
       "      <th>0</th>\n",
       "      <td>1</td>\n",
       "      <td>Penelope</td>\n",
       "      <td>Guiness</td>\n",
       "      <td>2013-05-26 14:47:57.620</td>\n",
       "    </tr>\n",
       "    <tr>\n",
       "      <th>1</th>\n",
       "      <td>2</td>\n",
       "      <td>Nick</td>\n",
       "      <td>Wahlberg</td>\n",
       "      <td>2013-05-26 14:47:57.620</td>\n",
       "    </tr>\n",
       "    <tr>\n",
       "      <th>2</th>\n",
       "      <td>3</td>\n",
       "      <td>Ed</td>\n",
       "      <td>Chase</td>\n",
       "      <td>2013-05-26 14:47:57.620</td>\n",
       "    </tr>\n",
       "    <tr>\n",
       "      <th>3</th>\n",
       "      <td>4</td>\n",
       "      <td>Jennifer</td>\n",
       "      <td>Davis</td>\n",
       "      <td>2013-05-26 14:47:57.620</td>\n",
       "    </tr>\n",
       "    <tr>\n",
       "      <th>4</th>\n",
       "      <td>5</td>\n",
       "      <td>Johnny</td>\n",
       "      <td>Lollobrigida</td>\n",
       "      <td>2013-05-26 14:47:57.620</td>\n",
       "    </tr>\n",
       "    <tr>\n",
       "      <th>...</th>\n",
       "      <td>...</td>\n",
       "      <td>...</td>\n",
       "      <td>...</td>\n",
       "      <td>...</td>\n",
       "    </tr>\n",
       "    <tr>\n",
       "      <th>195</th>\n",
       "      <td>196</td>\n",
       "      <td>Bela</td>\n",
       "      <td>Walken</td>\n",
       "      <td>2013-05-26 14:47:57.620</td>\n",
       "    </tr>\n",
       "    <tr>\n",
       "      <th>196</th>\n",
       "      <td>197</td>\n",
       "      <td>Reese</td>\n",
       "      <td>West</td>\n",
       "      <td>2013-05-26 14:47:57.620</td>\n",
       "    </tr>\n",
       "    <tr>\n",
       "      <th>197</th>\n",
       "      <td>198</td>\n",
       "      <td>Mary</td>\n",
       "      <td>Keitel</td>\n",
       "      <td>2013-05-26 14:47:57.620</td>\n",
       "    </tr>\n",
       "    <tr>\n",
       "      <th>198</th>\n",
       "      <td>199</td>\n",
       "      <td>Julia</td>\n",
       "      <td>Fawcett</td>\n",
       "      <td>2013-05-26 14:47:57.620</td>\n",
       "    </tr>\n",
       "    <tr>\n",
       "      <th>199</th>\n",
       "      <td>200</td>\n",
       "      <td>Thora</td>\n",
       "      <td>Temple</td>\n",
       "      <td>2013-05-26 14:47:57.620</td>\n",
       "    </tr>\n",
       "  </tbody>\n",
       "</table>\n",
       "<p>200 rows × 4 columns</p>\n",
       "</div>"
      ],
      "text/plain": [
       "     actor_id first_name     last_name             last_update\n",
       "0           1   Penelope       Guiness 2013-05-26 14:47:57.620\n",
       "1           2       Nick      Wahlberg 2013-05-26 14:47:57.620\n",
       "2           3         Ed         Chase 2013-05-26 14:47:57.620\n",
       "3           4   Jennifer         Davis 2013-05-26 14:47:57.620\n",
       "4           5     Johnny  Lollobrigida 2013-05-26 14:47:57.620\n",
       "..        ...        ...           ...                     ...\n",
       "195       196       Bela        Walken 2013-05-26 14:47:57.620\n",
       "196       197      Reese          West 2013-05-26 14:47:57.620\n",
       "197       198       Mary        Keitel 2013-05-26 14:47:57.620\n",
       "198       199      Julia       Fawcett 2013-05-26 14:47:57.620\n",
       "199       200      Thora        Temple 2013-05-26 14:47:57.620\n",
       "\n",
       "[200 rows x 4 columns]"
      ]
     },
     "execution_count": 6,
     "metadata": {},
     "output_type": "execute_result"
    }
   ],
   "source": [
    "df_actors"
   ]
  },
  {
   "cell_type": "code",
   "execution_count": 7,
   "id": "2e1e7ad0",
   "metadata": {},
   "outputs": [
    {
     "data": {
      "text/html": [
       "<div>\n",
       "<style scoped>\n",
       "    .dataframe tbody tr th:only-of-type {\n",
       "        vertical-align: middle;\n",
       "    }\n",
       "\n",
       "    .dataframe tbody tr th {\n",
       "        vertical-align: top;\n",
       "    }\n",
       "\n",
       "    .dataframe thead th {\n",
       "        text-align: right;\n",
       "    }\n",
       "</style>\n",
       "<table border=\"1\" class=\"dataframe\">\n",
       "  <thead>\n",
       "    <tr style=\"text-align: right;\">\n",
       "      <th></th>\n",
       "      <th>0</th>\n",
       "      <th>1</th>\n",
       "      <th>2</th>\n",
       "      <th>3</th>\n",
       "      <th>4</th>\n",
       "      <th>5</th>\n",
       "      <th>6</th>\n",
       "      <th>7</th>\n",
       "      <th>8</th>\n",
       "      <th>9</th>\n",
       "      <th>...</th>\n",
       "      <th>190</th>\n",
       "      <th>191</th>\n",
       "      <th>192</th>\n",
       "      <th>193</th>\n",
       "      <th>194</th>\n",
       "      <th>195</th>\n",
       "      <th>196</th>\n",
       "      <th>197</th>\n",
       "      <th>198</th>\n",
       "      <th>199</th>\n",
       "    </tr>\n",
       "  </thead>\n",
       "  <tbody>\n",
       "    <tr>\n",
       "      <th>actor_id</th>\n",
       "      <td>1</td>\n",
       "      <td>2</td>\n",
       "      <td>3</td>\n",
       "      <td>4</td>\n",
       "      <td>5</td>\n",
       "      <td>6</td>\n",
       "      <td>7</td>\n",
       "      <td>8</td>\n",
       "      <td>9</td>\n",
       "      <td>10</td>\n",
       "      <td>...</td>\n",
       "      <td>191</td>\n",
       "      <td>192</td>\n",
       "      <td>193</td>\n",
       "      <td>194</td>\n",
       "      <td>195</td>\n",
       "      <td>196</td>\n",
       "      <td>197</td>\n",
       "      <td>198</td>\n",
       "      <td>199</td>\n",
       "      <td>200</td>\n",
       "    </tr>\n",
       "    <tr>\n",
       "      <th>first_name</th>\n",
       "      <td>Penelope</td>\n",
       "      <td>Nick</td>\n",
       "      <td>Ed</td>\n",
       "      <td>Jennifer</td>\n",
       "      <td>Johnny</td>\n",
       "      <td>Bette</td>\n",
       "      <td>Grace</td>\n",
       "      <td>Matthew</td>\n",
       "      <td>Joe</td>\n",
       "      <td>Christian</td>\n",
       "      <td>...</td>\n",
       "      <td>Gregory</td>\n",
       "      <td>John</td>\n",
       "      <td>Burt</td>\n",
       "      <td>Meryl</td>\n",
       "      <td>Jayne</td>\n",
       "      <td>Bela</td>\n",
       "      <td>Reese</td>\n",
       "      <td>Mary</td>\n",
       "      <td>Julia</td>\n",
       "      <td>Thora</td>\n",
       "    </tr>\n",
       "    <tr>\n",
       "      <th>last_name</th>\n",
       "      <td>Guiness</td>\n",
       "      <td>Wahlberg</td>\n",
       "      <td>Chase</td>\n",
       "      <td>Davis</td>\n",
       "      <td>Lollobrigida</td>\n",
       "      <td>Nicholson</td>\n",
       "      <td>Mostel</td>\n",
       "      <td>Johansson</td>\n",
       "      <td>Swank</td>\n",
       "      <td>Gable</td>\n",
       "      <td>...</td>\n",
       "      <td>Gooding</td>\n",
       "      <td>Suvari</td>\n",
       "      <td>Temple</td>\n",
       "      <td>Allen</td>\n",
       "      <td>Silverstone</td>\n",
       "      <td>Walken</td>\n",
       "      <td>West</td>\n",
       "      <td>Keitel</td>\n",
       "      <td>Fawcett</td>\n",
       "      <td>Temple</td>\n",
       "    </tr>\n",
       "    <tr>\n",
       "      <th>last_update</th>\n",
       "      <td>2013-05-26 14:47:57.620000</td>\n",
       "      <td>2013-05-26 14:47:57.620000</td>\n",
       "      <td>2013-05-26 14:47:57.620000</td>\n",
       "      <td>2013-05-26 14:47:57.620000</td>\n",
       "      <td>2013-05-26 14:47:57.620000</td>\n",
       "      <td>2013-05-26 14:47:57.620000</td>\n",
       "      <td>2013-05-26 14:47:57.620000</td>\n",
       "      <td>2013-05-26 14:47:57.620000</td>\n",
       "      <td>2013-05-26 14:47:57.620000</td>\n",
       "      <td>2013-05-26 14:47:57.620000</td>\n",
       "      <td>...</td>\n",
       "      <td>2013-05-26 14:47:57.620000</td>\n",
       "      <td>2013-05-26 14:47:57.620000</td>\n",
       "      <td>2013-05-26 14:47:57.620000</td>\n",
       "      <td>2013-05-26 14:47:57.620000</td>\n",
       "      <td>2013-05-26 14:47:57.620000</td>\n",
       "      <td>2013-05-26 14:47:57.620000</td>\n",
       "      <td>2013-05-26 14:47:57.620000</td>\n",
       "      <td>2013-05-26 14:47:57.620000</td>\n",
       "      <td>2013-05-26 14:47:57.620000</td>\n",
       "      <td>2013-05-26 14:47:57.620000</td>\n",
       "    </tr>\n",
       "  </tbody>\n",
       "</table>\n",
       "<p>4 rows × 200 columns</p>\n",
       "</div>"
      ],
      "text/plain": [
       "                                    0                           1    \\\n",
       "actor_id                              1                           2   \n",
       "first_name                     Penelope                        Nick   \n",
       "last_name                       Guiness                    Wahlberg   \n",
       "last_update  2013-05-26 14:47:57.620000  2013-05-26 14:47:57.620000   \n",
       "\n",
       "                                    2                           3    \\\n",
       "actor_id                              3                           4   \n",
       "first_name                           Ed                    Jennifer   \n",
       "last_name                         Chase                       Davis   \n",
       "last_update  2013-05-26 14:47:57.620000  2013-05-26 14:47:57.620000   \n",
       "\n",
       "                                    4                           5    \\\n",
       "actor_id                              5                           6   \n",
       "first_name                       Johnny                       Bette   \n",
       "last_name                  Lollobrigida                   Nicholson   \n",
       "last_update  2013-05-26 14:47:57.620000  2013-05-26 14:47:57.620000   \n",
       "\n",
       "                                    6                           7    \\\n",
       "actor_id                              7                           8   \n",
       "first_name                        Grace                     Matthew   \n",
       "last_name                        Mostel                   Johansson   \n",
       "last_update  2013-05-26 14:47:57.620000  2013-05-26 14:47:57.620000   \n",
       "\n",
       "                                    8                           9    ...  \\\n",
       "actor_id                              9                          10  ...   \n",
       "first_name                          Joe                   Christian  ...   \n",
       "last_name                         Swank                       Gable  ...   \n",
       "last_update  2013-05-26 14:47:57.620000  2013-05-26 14:47:57.620000  ...   \n",
       "\n",
       "                                    190                         191  \\\n",
       "actor_id                            191                         192   \n",
       "first_name                      Gregory                        John   \n",
       "last_name                       Gooding                      Suvari   \n",
       "last_update  2013-05-26 14:47:57.620000  2013-05-26 14:47:57.620000   \n",
       "\n",
       "                                    192                         193  \\\n",
       "actor_id                            193                         194   \n",
       "first_name                         Burt                       Meryl   \n",
       "last_name                        Temple                       Allen   \n",
       "last_update  2013-05-26 14:47:57.620000  2013-05-26 14:47:57.620000   \n",
       "\n",
       "                                    194                         195  \\\n",
       "actor_id                            195                         196   \n",
       "first_name                        Jayne                        Bela   \n",
       "last_name                   Silverstone                      Walken   \n",
       "last_update  2013-05-26 14:47:57.620000  2013-05-26 14:47:57.620000   \n",
       "\n",
       "                                    196                         197  \\\n",
       "actor_id                            197                         198   \n",
       "first_name                        Reese                        Mary   \n",
       "last_name                          West                      Keitel   \n",
       "last_update  2013-05-26 14:47:57.620000  2013-05-26 14:47:57.620000   \n",
       "\n",
       "                                    198                         199  \n",
       "actor_id                            199                         200  \n",
       "first_name                        Julia                       Thora  \n",
       "last_name                       Fawcett                      Temple  \n",
       "last_update  2013-05-26 14:47:57.620000  2013-05-26 14:47:57.620000  \n",
       "\n",
       "[4 rows x 200 columns]"
      ]
     },
     "execution_count": 7,
     "metadata": {},
     "output_type": "execute_result"
    }
   ],
   "source": [
    "df_actors.T"
   ]
  },
  {
   "cell_type": "code",
   "execution_count": 8,
   "id": "b905a168",
   "metadata": {},
   "outputs": [],
   "source": [
    "json_str = df_actors.T.to_json()"
   ]
  },
  {
   "cell_type": "code",
   "execution_count": 9,
   "id": "1f44d3ba",
   "metadata": {},
   "outputs": [],
   "source": [
    "actors = json.loads(json_str)"
   ]
  },
  {
   "cell_type": "code",
   "execution_count": 10,
   "id": "17ebb730",
   "metadata": {},
   "outputs": [
    {
     "data": {
      "text/plain": [
       "{'actor_id': 2,\n",
       " 'first_name': 'Nick',\n",
       " 'last_name': 'Wahlberg',\n",
       " 'last_update': 1369579677620}"
      ]
     },
     "execution_count": 10,
     "metadata": {},
     "output_type": "execute_result"
    }
   ],
   "source": [
    "actors['1']"
   ]
  },
  {
   "cell_type": "code",
   "execution_count": 11,
   "id": "92dce489",
   "metadata": {},
   "outputs": [],
   "source": [
    "actors_tbl = {'actors' : actors}"
   ]
  },
  {
   "cell_type": "code",
   "execution_count": 12,
   "id": "56c4d9dc",
   "metadata": {},
   "outputs": [],
   "source": [
    "actors_tbl_str = json.dumps(actors_tbl)"
   ]
  },
  {
   "cell_type": "code",
   "execution_count": 13,
   "id": "0710d0dd",
   "metadata": {},
   "outputs": [
    {
     "data": {
      "text/plain": [
       "'{\"actors\": {\"0\": {\"actor_id\": 1, \"first_name\": \"Penelope\", \"last_name\": \"Guiness\", \"last_update\": 1369579677620}, \"1\": {\"actor_id\": 2, \"first_name\": \"Nick\", \"last_name\": \"Wahlberg\", \"last_update\": 1369579677620}, \"2\": {\"actor_id\": 3, \"first_name\": \"Ed\", \"last_name\": \"Chase\", \"last_update\": 1369579677620}, \"3\": {\"actor_id\": 4, \"first_name\": \"Jennifer\", \"last_name\": \"Davis\", \"last_update\": 1369579677620}, \"4\": {\"actor_id\": 5, \"first_name\": \"Johnny\", \"last_name\": \"Lollobrigida\", \"last_update\": 1369579677620}, \"5\": {\"actor_id\": 6, \"first_name\": \"Bette\", \"last_name\": \"Nicholson\", \"last_update\": 1369579677620}, \"6\": {\"actor_id\": 7, \"first_name\": \"Grace\", \"last_name\": \"Mostel\", \"last_update\": 1369579677620}, \"7\": {\"actor_id\": 8, \"first_name\": \"Matthew\", \"last_name\": \"Johansson\", \"last_update\": 1369579677620}, \"8\": {\"actor_id\": 9, \"first_name\": \"Joe\", \"last_name\": \"Swank\", \"last_update\": 1369579677620}, \"9\": {\"actor_id\": 10, \"first_name\": \"Christian\", \"last_name\": \"Gable\", \"last_update\": 1369579677620}, \"10\": {\"actor_id\": 11, \"first_name\": \"Zero\", \"last_name\": \"Cage\", \"last_update\": 1369579677620}, \"11\": {\"actor_id\": 12, \"first_name\": \"Karl\", \"last_name\": \"Berry\", \"last_update\": 1369579677620}, \"12\": {\"actor_id\": 13, \"first_name\": \"Uma\", \"last_name\": \"Wood\", \"last_update\": 1369579677620}, \"13\": {\"actor_id\": 14, \"first_name\": \"Vivien\", \"last_name\": \"Bergen\", \"last_update\": 1369579677620}, \"14\": {\"actor_id\": 15, \"first_name\": \"Cuba\", \"last_name\": \"Olivier\", \"last_update\": 1369579677620}, \"15\": {\"actor_id\": 16, \"first_name\": \"Fred\", \"last_name\": \"Costner\", \"last_update\": 1369579677620}, \"16\": {\"actor_id\": 17, \"first_name\": \"Helen\", \"last_name\": \"Voight\", \"last_update\": 1369579677620}, \"17\": {\"actor_id\": 18, \"first_name\": \"Dan\", \"last_name\": \"Torn\", \"last_update\": 1369579677620}, \"18\": {\"actor_id\": 19, \"first_name\": \"Bob\", \"last_name\": \"Fawcett\", \"last_update\": 1369579677620}, \"19\": {\"actor_id\": 20, \"first_name\": \"Lucille\", \"last_name\": \"Tracy\", \"last_update\": 1369579677620}, \"20\": {\"actor_id\": 21, \"first_name\": \"Kirsten\", \"last_name\": \"Paltrow\", \"last_update\": 1369579677620}, \"21\": {\"actor_id\": 22, \"first_name\": \"Elvis\", \"last_name\": \"Marx\", \"last_update\": 1369579677620}, \"22\": {\"actor_id\": 23, \"first_name\": \"Sandra\", \"last_name\": \"Kilmer\", \"last_update\": 1369579677620}, \"23\": {\"actor_id\": 24, \"first_name\": \"Cameron\", \"last_name\": \"Streep\", \"last_update\": 1369579677620}, \"24\": {\"actor_id\": 25, \"first_name\": \"Kevin\", \"last_name\": \"Bloom\", \"last_update\": 1369579677620}, \"25\": {\"actor_id\": 26, \"first_name\": \"Rip\", \"last_name\": \"Crawford\", \"last_update\": 1369579677620}, \"26\": {\"actor_id\": 27, \"first_name\": \"Julia\", \"last_name\": \"Mcqueen\", \"last_update\": 1369579677620}, \"27\": {\"actor_id\": 28, \"first_name\": \"Woody\", \"last_name\": \"Hoffman\", \"last_update\": 1369579677620}, \"28\": {\"actor_id\": 29, \"first_name\": \"Alec\", \"last_name\": \"Wayne\", \"last_update\": 1369579677620}, \"29\": {\"actor_id\": 30, \"first_name\": \"Sandra\", \"last_name\": \"Peck\", \"last_update\": 1369579677620}, \"30\": {\"actor_id\": 31, \"first_name\": \"Sissy\", \"last_name\": \"Sobieski\", \"last_update\": 1369579677620}, \"31\": {\"actor_id\": 32, \"first_name\": \"Tim\", \"last_name\": \"Hackman\", \"last_update\": 1369579677620}, \"32\": {\"actor_id\": 33, \"first_name\": \"Milla\", \"last_name\": \"Peck\", \"last_update\": 1369579677620}, \"33\": {\"actor_id\": 34, \"first_name\": \"Audrey\", \"last_name\": \"Olivier\", \"last_update\": 1369579677620}, \"34\": {\"actor_id\": 35, \"first_name\": \"Judy\", \"last_name\": \"Dean\", \"last_update\": 1369579677620}, \"35\": {\"actor_id\": 36, \"first_name\": \"Burt\", \"last_name\": \"Dukakis\", \"last_update\": 1369579677620}, \"36\": {\"actor_id\": 37, \"first_name\": \"Val\", \"last_name\": \"Bolger\", \"last_update\": 1369579677620}, \"37\": {\"actor_id\": 38, \"first_name\": \"Tom\", \"last_name\": \"Mckellen\", \"last_update\": 1369579677620}, \"38\": {\"actor_id\": 39, \"first_name\": \"Goldie\", \"last_name\": \"Brody\", \"last_update\": 1369579677620}, \"39\": {\"actor_id\": 40, \"first_name\": \"Johnny\", \"last_name\": \"Cage\", \"last_update\": 1369579677620}, \"40\": {\"actor_id\": 41, \"first_name\": \"Jodie\", \"last_name\": \"Degeneres\", \"last_update\": 1369579677620}, \"41\": {\"actor_id\": 42, \"first_name\": \"Tom\", \"last_name\": \"Miranda\", \"last_update\": 1369579677620}, \"42\": {\"actor_id\": 43, \"first_name\": \"Kirk\", \"last_name\": \"Jovovich\", \"last_update\": 1369579677620}, \"43\": {\"actor_id\": 44, \"first_name\": \"Nick\", \"last_name\": \"Stallone\", \"last_update\": 1369579677620}, \"44\": {\"actor_id\": 45, \"first_name\": \"Reese\", \"last_name\": \"Kilmer\", \"last_update\": 1369579677620}, \"45\": {\"actor_id\": 46, \"first_name\": \"Parker\", \"last_name\": \"Goldberg\", \"last_update\": 1369579677620}, \"46\": {\"actor_id\": 47, \"first_name\": \"Julia\", \"last_name\": \"Barrymore\", \"last_update\": 1369579677620}, \"47\": {\"actor_id\": 48, \"first_name\": \"Frances\", \"last_name\": \"Day-Lewis\", \"last_update\": 1369579677620}, \"48\": {\"actor_id\": 49, \"first_name\": \"Anne\", \"last_name\": \"Cronyn\", \"last_update\": 1369579677620}, \"49\": {\"actor_id\": 50, \"first_name\": \"Natalie\", \"last_name\": \"Hopkins\", \"last_update\": 1369579677620}, \"50\": {\"actor_id\": 51, \"first_name\": \"Gary\", \"last_name\": \"Phoenix\", \"last_update\": 1369579677620}, \"51\": {\"actor_id\": 52, \"first_name\": \"Carmen\", \"last_name\": \"Hunt\", \"last_update\": 1369579677620}, \"52\": {\"actor_id\": 53, \"first_name\": \"Mena\", \"last_name\": \"Temple\", \"last_update\": 1369579677620}, \"53\": {\"actor_id\": 54, \"first_name\": \"Penelope\", \"last_name\": \"Pinkett\", \"last_update\": 1369579677620}, \"54\": {\"actor_id\": 55, \"first_name\": \"Fay\", \"last_name\": \"Kilmer\", \"last_update\": 1369579677620}, \"55\": {\"actor_id\": 56, \"first_name\": \"Dan\", \"last_name\": \"Harris\", \"last_update\": 1369579677620}, \"56\": {\"actor_id\": 57, \"first_name\": \"Jude\", \"last_name\": \"Cruise\", \"last_update\": 1369579677620}, \"57\": {\"actor_id\": 58, \"first_name\": \"Christian\", \"last_name\": \"Akroyd\", \"last_update\": 1369579677620}, \"58\": {\"actor_id\": 59, \"first_name\": \"Dustin\", \"last_name\": \"Tautou\", \"last_update\": 1369579677620}, \"59\": {\"actor_id\": 60, \"first_name\": \"Henry\", \"last_name\": \"Berry\", \"last_update\": 1369579677620}, \"60\": {\"actor_id\": 61, \"first_name\": \"Christian\", \"last_name\": \"Neeson\", \"last_update\": 1369579677620}, \"61\": {\"actor_id\": 62, \"first_name\": \"Jayne\", \"last_name\": \"Neeson\", \"last_update\": 1369579677620}, \"62\": {\"actor_id\": 63, \"first_name\": \"Cameron\", \"last_name\": \"Wray\", \"last_update\": 1369579677620}, \"63\": {\"actor_id\": 64, \"first_name\": \"Ray\", \"last_name\": \"Johansson\", \"last_update\": 1369579677620}, \"64\": {\"actor_id\": 65, \"first_name\": \"Angela\", \"last_name\": \"Hudson\", \"last_update\": 1369579677620}, \"65\": {\"actor_id\": 66, \"first_name\": \"Mary\", \"last_name\": \"Tandy\", \"last_update\": 1369579677620}, \"66\": {\"actor_id\": 67, \"first_name\": \"Jessica\", \"last_name\": \"Bailey\", \"last_update\": 1369579677620}, \"67\": {\"actor_id\": 68, \"first_name\": \"Rip\", \"last_name\": \"Winslet\", \"last_update\": 1369579677620}, \"68\": {\"actor_id\": 69, \"first_name\": \"Kenneth\", \"last_name\": \"Paltrow\", \"last_update\": 1369579677620}, \"69\": {\"actor_id\": 70, \"first_name\": \"Michelle\", \"last_name\": \"Mcconaughey\", \"last_update\": 1369579677620}, \"70\": {\"actor_id\": 71, \"first_name\": \"Adam\", \"last_name\": \"Grant\", \"last_update\": 1369579677620}, \"71\": {\"actor_id\": 72, \"first_name\": \"Sean\", \"last_name\": \"Williams\", \"last_update\": 1369579677620}, \"72\": {\"actor_id\": 73, \"first_name\": \"Gary\", \"last_name\": \"Penn\", \"last_update\": 1369579677620}, \"73\": {\"actor_id\": 74, \"first_name\": \"Milla\", \"last_name\": \"Keitel\", \"last_update\": 1369579677620}, \"74\": {\"actor_id\": 75, \"first_name\": \"Burt\", \"last_name\": \"Posey\", \"last_update\": 1369579677620}, \"75\": {\"actor_id\": 76, \"first_name\": \"Angelina\", \"last_name\": \"Astaire\", \"last_update\": 1369579677620}, \"76\": {\"actor_id\": 77, \"first_name\": \"Cary\", \"last_name\": \"Mcconaughey\", \"last_update\": 1369579677620}, \"77\": {\"actor_id\": 78, \"first_name\": \"Groucho\", \"last_name\": \"Sinatra\", \"last_update\": 1369579677620}, \"78\": {\"actor_id\": 79, \"first_name\": \"Mae\", \"last_name\": \"Hoffman\", \"last_update\": 1369579677620}, \"79\": {\"actor_id\": 80, \"first_name\": \"Ralph\", \"last_name\": \"Cruz\", \"last_update\": 1369579677620}, \"80\": {\"actor_id\": 81, \"first_name\": \"Scarlett\", \"last_name\": \"Damon\", \"last_update\": 1369579677620}, \"81\": {\"actor_id\": 82, \"first_name\": \"Woody\", \"last_name\": \"Jolie\", \"last_update\": 1369579677620}, \"82\": {\"actor_id\": 83, \"first_name\": \"Ben\", \"last_name\": \"Willis\", \"last_update\": 1369579677620}, \"83\": {\"actor_id\": 84, \"first_name\": \"James\", \"last_name\": \"Pitt\", \"last_update\": 1369579677620}, \"84\": {\"actor_id\": 85, \"first_name\": \"Minnie\", \"last_name\": \"Zellweger\", \"last_update\": 1369579677620}, \"85\": {\"actor_id\": 86, \"first_name\": \"Greg\", \"last_name\": \"Chaplin\", \"last_update\": 1369579677620}, \"86\": {\"actor_id\": 87, \"first_name\": \"Spencer\", \"last_name\": \"Peck\", \"last_update\": 1369579677620}, \"87\": {\"actor_id\": 88, \"first_name\": \"Kenneth\", \"last_name\": \"Pesci\", \"last_update\": 1369579677620}, \"88\": {\"actor_id\": 89, \"first_name\": \"Charlize\", \"last_name\": \"Dench\", \"last_update\": 1369579677620}, \"89\": {\"actor_id\": 90, \"first_name\": \"Sean\", \"last_name\": \"Guiness\", \"last_update\": 1369579677620}, \"90\": {\"actor_id\": 91, \"first_name\": \"Christopher\", \"last_name\": \"Berry\", \"last_update\": 1369579677620}, \"91\": {\"actor_id\": 92, \"first_name\": \"Kirsten\", \"last_name\": \"Akroyd\", \"last_update\": 1369579677620}, \"92\": {\"actor_id\": 93, \"first_name\": \"Ellen\", \"last_name\": \"Presley\", \"last_update\": 1369579677620}, \"93\": {\"actor_id\": 94, \"first_name\": \"Kenneth\", \"last_name\": \"Torn\", \"last_update\": 1369579677620}, \"94\": {\"actor_id\": 95, \"first_name\": \"Daryl\", \"last_name\": \"Wahlberg\", \"last_update\": 1369579677620}, \"95\": {\"actor_id\": 96, \"first_name\": \"Gene\", \"last_name\": \"Willis\", \"last_update\": 1369579677620}, \"96\": {\"actor_id\": 97, \"first_name\": \"Meg\", \"last_name\": \"Hawke\", \"last_update\": 1369579677620}, \"97\": {\"actor_id\": 98, \"first_name\": \"Chris\", \"last_name\": \"Bridges\", \"last_update\": 1369579677620}, \"98\": {\"actor_id\": 99, \"first_name\": \"Jim\", \"last_name\": \"Mostel\", \"last_update\": 1369579677620}, \"99\": {\"actor_id\": 100, \"first_name\": \"Spencer\", \"last_name\": \"Depp\", \"last_update\": 1369579677620}, \"100\": {\"actor_id\": 101, \"first_name\": \"Susan\", \"last_name\": \"Davis\", \"last_update\": 1369579677620}, \"101\": {\"actor_id\": 102, \"first_name\": \"Walter\", \"last_name\": \"Torn\", \"last_update\": 1369579677620}, \"102\": {\"actor_id\": 103, \"first_name\": \"Matthew\", \"last_name\": \"Leigh\", \"last_update\": 1369579677620}, \"103\": {\"actor_id\": 104, \"first_name\": \"Penelope\", \"last_name\": \"Cronyn\", \"last_update\": 1369579677620}, \"104\": {\"actor_id\": 105, \"first_name\": \"Sidney\", \"last_name\": \"Crowe\", \"last_update\": 1369579677620}, \"105\": {\"actor_id\": 106, \"first_name\": \"Groucho\", \"last_name\": \"Dunst\", \"last_update\": 1369579677620}, \"106\": {\"actor_id\": 107, \"first_name\": \"Gina\", \"last_name\": \"Degeneres\", \"last_update\": 1369579677620}, \"107\": {\"actor_id\": 108, \"first_name\": \"Warren\", \"last_name\": \"Nolte\", \"last_update\": 1369579677620}, \"108\": {\"actor_id\": 109, \"first_name\": \"Sylvester\", \"last_name\": \"Dern\", \"last_update\": 1369579677620}, \"109\": {\"actor_id\": 110, \"first_name\": \"Susan\", \"last_name\": \"Davis\", \"last_update\": 1369579677620}, \"110\": {\"actor_id\": 111, \"first_name\": \"Cameron\", \"last_name\": \"Zellweger\", \"last_update\": 1369579677620}, \"111\": {\"actor_id\": 112, \"first_name\": \"Russell\", \"last_name\": \"Bacall\", \"last_update\": 1369579677620}, \"112\": {\"actor_id\": 113, \"first_name\": \"Morgan\", \"last_name\": \"Hopkins\", \"last_update\": 1369579677620}, \"113\": {\"actor_id\": 114, \"first_name\": \"Morgan\", \"last_name\": \"Mcdormand\", \"last_update\": 1369579677620}, \"114\": {\"actor_id\": 115, \"first_name\": \"Harrison\", \"last_name\": \"Bale\", \"last_update\": 1369579677620}, \"115\": {\"actor_id\": 116, \"first_name\": \"Dan\", \"last_name\": \"Streep\", \"last_update\": 1369579677620}, \"116\": {\"actor_id\": 117, \"first_name\": \"Renee\", \"last_name\": \"Tracy\", \"last_update\": 1369579677620}, \"117\": {\"actor_id\": 118, \"first_name\": \"Cuba\", \"last_name\": \"Allen\", \"last_update\": 1369579677620}, \"118\": {\"actor_id\": 119, \"first_name\": \"Warren\", \"last_name\": \"Jackman\", \"last_update\": 1369579677620}, \"119\": {\"actor_id\": 120, \"first_name\": \"Penelope\", \"last_name\": \"Monroe\", \"last_update\": 1369579677620}, \"120\": {\"actor_id\": 121, \"first_name\": \"Liza\", \"last_name\": \"Bergman\", \"last_update\": 1369579677620}, \"121\": {\"actor_id\": 122, \"first_name\": \"Salma\", \"last_name\": \"Nolte\", \"last_update\": 1369579677620}, \"122\": {\"actor_id\": 123, \"first_name\": \"Julianne\", \"last_name\": \"Dench\", \"last_update\": 1369579677620}, \"123\": {\"actor_id\": 124, \"first_name\": \"Scarlett\", \"last_name\": \"Bening\", \"last_update\": 1369579677620}, \"124\": {\"actor_id\": 125, \"first_name\": \"Albert\", \"last_name\": \"Nolte\", \"last_update\": 1369579677620}, \"125\": {\"actor_id\": 126, \"first_name\": \"Frances\", \"last_name\": \"Tomei\", \"last_update\": 1369579677620}, \"126\": {\"actor_id\": 127, \"first_name\": \"Kevin\", \"last_name\": \"Garland\", \"last_update\": 1369579677620}, \"127\": {\"actor_id\": 128, \"first_name\": \"Cate\", \"last_name\": \"Mcqueen\", \"last_update\": 1369579677620}, \"128\": {\"actor_id\": 129, \"first_name\": \"Daryl\", \"last_name\": \"Crawford\", \"last_update\": 1369579677620}, \"129\": {\"actor_id\": 130, \"first_name\": \"Greta\", \"last_name\": \"Keitel\", \"last_update\": 1369579677620}, \"130\": {\"actor_id\": 131, \"first_name\": \"Jane\", \"last_name\": \"Jackman\", \"last_update\": 1369579677620}, \"131\": {\"actor_id\": 132, \"first_name\": \"Adam\", \"last_name\": \"Hopper\", \"last_update\": 1369579677620}, \"132\": {\"actor_id\": 133, \"first_name\": \"Richard\", \"last_name\": \"Penn\", \"last_update\": 1369579677620}, \"133\": {\"actor_id\": 134, \"first_name\": \"Gene\", \"last_name\": \"Hopkins\", \"last_update\": 1369579677620}, \"134\": {\"actor_id\": 135, \"first_name\": \"Rita\", \"last_name\": \"Reynolds\", \"last_update\": 1369579677620}, \"135\": {\"actor_id\": 136, \"first_name\": \"Ed\", \"last_name\": \"Mansfield\", \"last_update\": 1369579677620}, \"136\": {\"actor_id\": 137, \"first_name\": \"Morgan\", \"last_name\": \"Williams\", \"last_update\": 1369579677620}, \"137\": {\"actor_id\": 138, \"first_name\": \"Lucille\", \"last_name\": \"Dee\", \"last_update\": 1369579677620}, \"138\": {\"actor_id\": 139, \"first_name\": \"Ewan\", \"last_name\": \"Gooding\", \"last_update\": 1369579677620}, \"139\": {\"actor_id\": 140, \"first_name\": \"Whoopi\", \"last_name\": \"Hurt\", \"last_update\": 1369579677620}, \"140\": {\"actor_id\": 141, \"first_name\": \"Cate\", \"last_name\": \"Harris\", \"last_update\": 1369579677620}, \"141\": {\"actor_id\": 142, \"first_name\": \"Jada\", \"last_name\": \"Ryder\", \"last_update\": 1369579677620}, \"142\": {\"actor_id\": 143, \"first_name\": \"River\", \"last_name\": \"Dean\", \"last_update\": 1369579677620}, \"143\": {\"actor_id\": 144, \"first_name\": \"Angela\", \"last_name\": \"Witherspoon\", \"last_update\": 1369579677620}, \"144\": {\"actor_id\": 145, \"first_name\": \"Kim\", \"last_name\": \"Allen\", \"last_update\": 1369579677620}, \"145\": {\"actor_id\": 146, \"first_name\": \"Albert\", \"last_name\": \"Johansson\", \"last_update\": 1369579677620}, \"146\": {\"actor_id\": 147, \"first_name\": \"Fay\", \"last_name\": \"Winslet\", \"last_update\": 1369579677620}, \"147\": {\"actor_id\": 148, \"first_name\": \"Emily\", \"last_name\": \"Dee\", \"last_update\": 1369579677620}, \"148\": {\"actor_id\": 149, \"first_name\": \"Russell\", \"last_name\": \"Temple\", \"last_update\": 1369579677620}, \"149\": {\"actor_id\": 150, \"first_name\": \"Jayne\", \"last_name\": \"Nolte\", \"last_update\": 1369579677620}, \"150\": {\"actor_id\": 151, \"first_name\": \"Geoffrey\", \"last_name\": \"Heston\", \"last_update\": 1369579677620}, \"151\": {\"actor_id\": 152, \"first_name\": \"Ben\", \"last_name\": \"Harris\", \"last_update\": 1369579677620}, \"152\": {\"actor_id\": 153, \"first_name\": \"Minnie\", \"last_name\": \"Kilmer\", \"last_update\": 1369579677620}, \"153\": {\"actor_id\": 154, \"first_name\": \"Meryl\", \"last_name\": \"Gibson\", \"last_update\": 1369579677620}, \"154\": {\"actor_id\": 155, \"first_name\": \"Ian\", \"last_name\": \"Tandy\", \"last_update\": 1369579677620}, \"155\": {\"actor_id\": 156, \"first_name\": \"Fay\", \"last_name\": \"Wood\", \"last_update\": 1369579677620}, \"156\": {\"actor_id\": 157, \"first_name\": \"Greta\", \"last_name\": \"Malden\", \"last_update\": 1369579677620}, \"157\": {\"actor_id\": 158, \"first_name\": \"Vivien\", \"last_name\": \"Basinger\", \"last_update\": 1369579677620}, \"158\": {\"actor_id\": 159, \"first_name\": \"Laura\", \"last_name\": \"Brody\", \"last_update\": 1369579677620}, \"159\": {\"actor_id\": 160, \"first_name\": \"Chris\", \"last_name\": \"Depp\", \"last_update\": 1369579677620}, \"160\": {\"actor_id\": 161, \"first_name\": \"Harvey\", \"last_name\": \"Hope\", \"last_update\": 1369579677620}, \"161\": {\"actor_id\": 162, \"first_name\": \"Oprah\", \"last_name\": \"Kilmer\", \"last_update\": 1369579677620}, \"162\": {\"actor_id\": 163, \"first_name\": \"Christopher\", \"last_name\": \"West\", \"last_update\": 1369579677620}, \"163\": {\"actor_id\": 164, \"first_name\": \"Humphrey\", \"last_name\": \"Willis\", \"last_update\": 1369579677620}, \"164\": {\"actor_id\": 165, \"first_name\": \"Al\", \"last_name\": \"Garland\", \"last_update\": 1369579677620}, \"165\": {\"actor_id\": 166, \"first_name\": \"Nick\", \"last_name\": \"Degeneres\", \"last_update\": 1369579677620}, \"166\": {\"actor_id\": 167, \"first_name\": \"Laurence\", \"last_name\": \"Bullock\", \"last_update\": 1369579677620}, \"167\": {\"actor_id\": 168, \"first_name\": \"Will\", \"last_name\": \"Wilson\", \"last_update\": 1369579677620}, \"168\": {\"actor_id\": 169, \"first_name\": \"Kenneth\", \"last_name\": \"Hoffman\", \"last_update\": 1369579677620}, \"169\": {\"actor_id\": 170, \"first_name\": \"Mena\", \"last_name\": \"Hopper\", \"last_update\": 1369579677620}, \"170\": {\"actor_id\": 171, \"first_name\": \"Olympia\", \"last_name\": \"Pfeiffer\", \"last_update\": 1369579677620}, \"171\": {\"actor_id\": 172, \"first_name\": \"Groucho\", \"last_name\": \"Williams\", \"last_update\": 1369579677620}, \"172\": {\"actor_id\": 173, \"first_name\": \"Alan\", \"last_name\": \"Dreyfuss\", \"last_update\": 1369579677620}, \"173\": {\"actor_id\": 174, \"first_name\": \"Michael\", \"last_name\": \"Bening\", \"last_update\": 1369579677620}, \"174\": {\"actor_id\": 175, \"first_name\": \"William\", \"last_name\": \"Hackman\", \"last_update\": 1369579677620}, \"175\": {\"actor_id\": 176, \"first_name\": \"Jon\", \"last_name\": \"Chase\", \"last_update\": 1369579677620}, \"176\": {\"actor_id\": 177, \"first_name\": \"Gene\", \"last_name\": \"Mckellen\", \"last_update\": 1369579677620}, \"177\": {\"actor_id\": 178, \"first_name\": \"Lisa\", \"last_name\": \"Monroe\", \"last_update\": 1369579677620}, \"178\": {\"actor_id\": 179, \"first_name\": \"Ed\", \"last_name\": \"Guiness\", \"last_update\": 1369579677620}, \"179\": {\"actor_id\": 180, \"first_name\": \"Jeff\", \"last_name\": \"Silverstone\", \"last_update\": 1369579677620}, \"180\": {\"actor_id\": 181, \"first_name\": \"Matthew\", \"last_name\": \"Carrey\", \"last_update\": 1369579677620}, \"181\": {\"actor_id\": 182, \"first_name\": \"Debbie\", \"last_name\": \"Akroyd\", \"last_update\": 1369579677620}, \"182\": {\"actor_id\": 183, \"first_name\": \"Russell\", \"last_name\": \"Close\", \"last_update\": 1369579677620}, \"183\": {\"actor_id\": 184, \"first_name\": \"Humphrey\", \"last_name\": \"Garland\", \"last_update\": 1369579677620}, \"184\": {\"actor_id\": 185, \"first_name\": \"Michael\", \"last_name\": \"Bolger\", \"last_update\": 1369579677620}, \"185\": {\"actor_id\": 186, \"first_name\": \"Julia\", \"last_name\": \"Zellweger\", \"last_update\": 1369579677620}, \"186\": {\"actor_id\": 187, \"first_name\": \"Renee\", \"last_name\": \"Ball\", \"last_update\": 1369579677620}, \"187\": {\"actor_id\": 188, \"first_name\": \"Rock\", \"last_name\": \"Dukakis\", \"last_update\": 1369579677620}, \"188\": {\"actor_id\": 189, \"first_name\": \"Cuba\", \"last_name\": \"Birch\", \"last_update\": 1369579677620}, \"189\": {\"actor_id\": 190, \"first_name\": \"Audrey\", \"last_name\": \"Bailey\", \"last_update\": 1369579677620}, \"190\": {\"actor_id\": 191, \"first_name\": \"Gregory\", \"last_name\": \"Gooding\", \"last_update\": 1369579677620}, \"191\": {\"actor_id\": 192, \"first_name\": \"John\", \"last_name\": \"Suvari\", \"last_update\": 1369579677620}, \"192\": {\"actor_id\": 193, \"first_name\": \"Burt\", \"last_name\": \"Temple\", \"last_update\": 1369579677620}, \"193\": {\"actor_id\": 194, \"first_name\": \"Meryl\", \"last_name\": \"Allen\", \"last_update\": 1369579677620}, \"194\": {\"actor_id\": 195, \"first_name\": \"Jayne\", \"last_name\": \"Silverstone\", \"last_update\": 1369579677620}, \"195\": {\"actor_id\": 196, \"first_name\": \"Bela\", \"last_name\": \"Walken\", \"last_update\": 1369579677620}, \"196\": {\"actor_id\": 197, \"first_name\": \"Reese\", \"last_name\": \"West\", \"last_update\": 1369579677620}, \"197\": {\"actor_id\": 198, \"first_name\": \"Mary\", \"last_name\": \"Keitel\", \"last_update\": 1369579677620}, \"198\": {\"actor_id\": 199, \"first_name\": \"Julia\", \"last_name\": \"Fawcett\", \"last_update\": 1369579677620}, \"199\": {\"actor_id\": 200, \"first_name\": \"Thora\", \"last_name\": \"Temple\", \"last_update\": 1369579677620}}}'"
      ]
     },
     "execution_count": 13,
     "metadata": {},
     "output_type": "execute_result"
    }
   ],
   "source": [
    "actors_tbl_str"
   ]
  }
 ],
 "metadata": {
  "kernelspec": {
   "display_name": "jup",
   "language": "python",
   "name": "python3"
  },
  "language_info": {
   "codemirror_mode": {
    "name": "ipython",
    "version": 3
   },
   "file_extension": ".py",
   "mimetype": "text/x-python",
   "name": "python",
   "nbconvert_exporter": "python",
   "pygments_lexer": "ipython3",
   "version": "3.9.7"
  }
 },
 "nbformat": 4,
 "nbformat_minor": 5
}
