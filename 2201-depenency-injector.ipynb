{
 "cells": [
  {
   "cell_type": "markdown",
   "id": "7cf8c117",
   "metadata": {},
   "source": [
    "## What's `Dependency Injector` ?"
   ]
  },
  {
   "cell_type": "markdown",
   "id": "8eee7eb2",
   "metadata": {},
   "source": [
    "`Denpendency Injector` is a dependency injection framework for Python.\n",
    "It helps implementing the DI principle.\n",
    "\n",
    "Key features of the `Dependency Injector`.\n",
    "\n",
    "- **Providers** : Provides some providers that helps assembling your objects. \n",
    "  - `Factory`,\n",
    "  - `Singleton`,\n",
    "  - `Callable`,\n",
    "  - `Coroutine`,\n",
    "  - `Object`,\n",
    "  - `List`,\n",
    "  - `Dict`,\n",
    "  - `Configuration`,\n",
    "  - `Resource`,\n",
    "  - `Dependency`,\n",
    "  - `Selector`\n"
   ]
  },
  {
   "cell_type": "markdown",
   "id": "f3c7fd3e",
   "metadata": {},
   "source": [
    "- **Overriding** : Can override any provider by another provider on the fly. This helps in testing and configuring dev / stage environment to replace API clients with stubs etc.\n",
    "- **Configuration** : Reads configuration from yaml, ini files, `pydantic` settings, environment variables, and dictionaries. See `Configuration provider`.\n",
    "- **Containers** : Provides declarative and dynamic containers. See `Containers`."
   ]
  },
  {
   "cell_type": "markdown",
   "id": "01fcb45f",
   "metadata": {},
   "source": [
    "- **Resource** : Helps with initialization and configuring of logging, event  loop, thread or process pool, etc. Can be used for per-function execution scope in tandem with wiring. See `Resource provider`.\n",
    "- **Wiring** : Injects dependencies into functions and methods. Helps integrating with other frameworks: `Django`, `FastAPI`. See `Wiring`\n",
    "- **Asynchronous** : Supports asynchronous injections.\n",
    "- **Typing** : Provides typing stubs, `mypy`-friendly.\n",
    "- **Performance** : Fast. Written in Cython.\n",
    "- **Maturity** : Mature and production-ready. Well-tested, documented and supported."
   ]
  },
  {
   "cell_type": "code",
   "execution_count": 1,
   "id": "102fdea5",
   "metadata": {},
   "outputs": [],
   "source": [
    "from dependency_injector import containers, providers\n",
    "from dependency_injector.wiring import Provide, inject"
   ]
  },
  {
   "cell_type": "code",
   "execution_count": 2,
   "id": "adbcd05c",
   "metadata": {},
   "outputs": [],
   "source": [
    "class ApiClient():\n",
    "    pass\n",
    "\n",
    "class Service():\n",
    "    pass\n",
    "\n",
    "class Container(containers.DeclarativeContainer):\n",
    "    config = providers.Configuration()\n",
    "    \n",
    "    api_client = providers.Singleton(\n",
    "        ApiClient,\n",
    "        api_key=config.api_key,\n",
    "        timeout=config.timeout.as_int(),\n",
    "    )\n",
    "    service = providers.Factory(\n",
    "        Service,\n",
    "        api_clinet=api_client,\n",
    "    )\n",
    "    \n",
    "class ServiceMock():\n",
    "    pass"
   ]
  },
  {
   "cell_type": "code",
   "execution_count": 3,
   "id": "fb7184f6",
   "metadata": {},
   "outputs": [],
   "source": [
    "@inject\n",
    "def main(service: Service=Provide[Container.service]):\n",
    "    pass"
   ]
  },
  {
   "cell_type": "code",
   "execution_count": 4,
   "id": "4be74ccb",
   "metadata": {},
   "outputs": [],
   "source": [
    "## ---------------// entry point\n",
    "container = Container()\n",
    "container.config.api_key.from_env(\"API_KEY\")\n",
    "container.config.timeout.from_env(\"TIMEOUT\")\n"
   ]
  },
  {
   "cell_type": "code",
   "execution_count": 5,
   "id": "a5c8111c",
   "metadata": {},
   "outputs": [
    {
     "data": {
      "text/plain": [
       "\"<dependency_injector.providers.ConfigurationOption('config.api_key') at 0x22ff67930b0>\""
      ]
     },
     "execution_count": 5,
     "metadata": {},
     "output_type": "execute_result"
    }
   ],
   "source": [
    "str(container.config.api_key)"
   ]
  },
  {
   "cell_type": "code",
   "execution_count": 6,
   "id": "93951328",
   "metadata": {},
   "outputs": [
    {
     "ename": "TypeError",
     "evalue": "Service() takes no arguments",
     "output_type": "error",
     "traceback": [
      "\u001b[1;31m---------------------------------------------------------------------------\u001b[0m",
      "\u001b[1;31mTypeError\u001b[0m                                 Traceback (most recent call last)",
      "\u001b[1;32m~\\AppData\\Local\\Temp/ipykernel_10860/2851263621.py\u001b[0m in \u001b[0;36m<module>\u001b[1;34m\u001b[0m\n\u001b[0;32m      2\u001b[0m \u001b[1;33m\u001b[0m\u001b[0m\n\u001b[0;32m      3\u001b[0m \u001b[1;32mwith\u001b[0m \u001b[0mcontainer\u001b[0m\u001b[1;33m.\u001b[0m\u001b[0mapi_client\u001b[0m\u001b[1;33m.\u001b[0m\u001b[0moverride\u001b[0m\u001b[1;33m(\u001b[0m\u001b[0mServiceMock\u001b[0m\u001b[1;33m(\u001b[0m\u001b[1;33m)\u001b[0m\u001b[1;33m)\u001b[0m\u001b[1;33m:\u001b[0m\u001b[1;33m\u001b[0m\u001b[1;33m\u001b[0m\u001b[0m\n\u001b[1;32m----> 4\u001b[1;33m     \u001b[0mmain\u001b[0m\u001b[1;33m(\u001b[0m\u001b[1;33m)\u001b[0m\u001b[1;33m\u001b[0m\u001b[1;33m\u001b[0m\u001b[0m\n\u001b[0m",
      "\u001b[1;32m~\\miniconda3\\envs\\jup\\lib\\site-packages\\dependency_injector\\wiring.py\u001b[0m in \u001b[0;36m_patched\u001b[1;34m(*args, **kwargs)\u001b[0m\n\u001b[0;32m    608\u001b[0m             \u001b[1;32mif\u001b[0m \u001b[0minjection\u001b[0m \u001b[1;32mnot\u001b[0m \u001b[1;32min\u001b[0m \u001b[0mkwargs\u001b[0m\u001b[0;31m \u001b[0m\u001b[0;31m\\\u001b[0m\u001b[1;33m\u001b[0m\u001b[1;33m\u001b[0m\u001b[0m\n\u001b[0;32m    609\u001b[0m                     \u001b[1;32mor\u001b[0m \u001b[0m_is_fastapi_default_arg_injection\u001b[0m\u001b[1;33m(\u001b[0m\u001b[0minjection\u001b[0m\u001b[1;33m,\u001b[0m \u001b[0mkwargs\u001b[0m\u001b[1;33m)\u001b[0m\u001b[1;33m:\u001b[0m\u001b[1;33m\u001b[0m\u001b[1;33m\u001b[0m\u001b[0m\n\u001b[1;32m--> 610\u001b[1;33m                 \u001b[0mto_inject\u001b[0m\u001b[1;33m[\u001b[0m\u001b[0minjection\u001b[0m\u001b[1;33m]\u001b[0m \u001b[1;33m=\u001b[0m \u001b[0mprovider\u001b[0m\u001b[1;33m(\u001b[0m\u001b[1;33m)\u001b[0m\u001b[1;33m\u001b[0m\u001b[1;33m\u001b[0m\u001b[0m\n\u001b[0m\u001b[0;32m    611\u001b[0m \u001b[1;33m\u001b[0m\u001b[0m\n\u001b[0;32m    612\u001b[0m         \u001b[0mresult\u001b[0m \u001b[1;33m=\u001b[0m \u001b[0mfn\u001b[0m\u001b[1;33m(\u001b[0m\u001b[1;33m*\u001b[0m\u001b[0margs\u001b[0m\u001b[1;33m,\u001b[0m \u001b[1;33m**\u001b[0m\u001b[0mto_inject\u001b[0m\u001b[1;33m)\u001b[0m\u001b[1;33m\u001b[0m\u001b[1;33m\u001b[0m\u001b[0m\n",
      "\u001b[1;32msrc/dependency_injector/providers.pyx\u001b[0m in \u001b[0;36mdependency_injector.providers.Provider.__call__\u001b[1;34m()\u001b[0m\n",
      "\u001b[1;32msrc/dependency_injector/providers.pyx\u001b[0m in \u001b[0;36mdependency_injector.providers.Factory._provide\u001b[1;34m()\u001b[0m\n",
      "\u001b[1;32msrc/dependency_injector/providers.pxd\u001b[0m in \u001b[0;36mdependency_injector.providers.__factory_call\u001b[1;34m()\u001b[0m\n",
      "\u001b[1;32msrc/dependency_injector/providers.pxd\u001b[0m in \u001b[0;36mdependency_injector.providers.__callable_call\u001b[1;34m()\u001b[0m\n",
      "\u001b[1;32msrc/dependency_injector/providers.pxd\u001b[0m in \u001b[0;36mdependency_injector.providers.__call\u001b[1;34m()\u001b[0m\n",
      "\u001b[1;31mTypeError\u001b[0m: Service() takes no arguments"
     ]
    }
   ],
   "source": [
    "container.wire(modules=[__name__])\n",
    "\n",
    "with container.api_client.override(ServiceMock()):\n",
    "    main()"
   ]
  },
  {
   "cell_type": "code",
   "execution_count": null,
   "id": "689adc9d",
   "metadata": {},
   "outputs": [],
   "source": [
    "dir(container.config)"
   ]
  },
  {
   "cell_type": "code",
   "execution_count": 7,
   "id": "402b46cb",
   "metadata": {},
   "outputs": [],
   "source": [
    "import sys"
   ]
  },
  {
   "cell_type": "code",
   "execution_count": 8,
   "id": "e503b7cd",
   "metadata": {},
   "outputs": [],
   "source": [
    "class School:\n",
    "    def __init__(self, name:str, city:str, board:str):\n",
    "        self.schoolname = name\n",
    "        self.city = city\n",
    "        self.board = board\n",
    "    \n",
    "    def get_schoolname(self) -> None:\n",
    "        print(f'school name is {self.schoolname}')\n",
    "        \n"
   ]
  },
  {
   "cell_type": "code",
   "execution_count": 19,
   "id": "d0b01988",
   "metadata": {},
   "outputs": [],
   "source": [
    "class Student():\n",
    "    def __init__(self, name:str, age:int, grade:int, school:School):\n",
    "        self.name = name\n",
    "        self.age = age\n",
    "        self.grade = grade\n",
    "        self.school = school\n",
    "\n",
    "    def get_student(self):\n",
    "        student_detail = {\n",
    "            \"name\": self.name,\n",
    "            \"age\": self.age,\n",
    "            \"grade\": self.grade,\n",
    "            \"school\": self.school.schoolname,\n",
    "            \"board\": self.school.board,\n",
    "            \"city\": self.school.city\n",
    "        }\n",
    "        print(student_detail)"
   ]
  },
  {
   "cell_type": "code",
   "execution_count": 20,
   "id": "b50a7a90",
   "metadata": {},
   "outputs": [],
   "source": [
    "class Container(containers.DeclarativeContainer):\n",
    "    school = providers.Factory(\n",
    "        School,\n",
    "        \"Kendriya Vidhyala\",\n",
    "        \"C.V.S.E\",\n",
    "        \"Bina\"\n",
    "    )\n",
    "    \n",
    "    student = providers.Factory(\n",
    "        Student,\n",
    "        \"Siddhartha\",\n",
    "        28,\n",
    "        12,\n",
    "        school\n",
    "    )"
   ]
  },
  {
   "cell_type": "code",
   "execution_count": 21,
   "id": "b0dc19a0",
   "metadata": {},
   "outputs": [],
   "source": [
    "container = Container()\n"
   ]
  },
  {
   "cell_type": "code",
   "execution_count": 22,
   "id": "0770e0bc",
   "metadata": {},
   "outputs": [
    {
     "data": {
      "text/plain": [
       "'__main__'"
      ]
     },
     "execution_count": 22,
     "metadata": {},
     "output_type": "execute_result"
    }
   ],
   "source": [
    "__name__"
   ]
  },
  {
   "cell_type": "code",
   "execution_count": 24,
   "id": "7322e6b2",
   "metadata": {},
   "outputs": [
    {
     "data": {
      "text/plain": [
       "<module '__main__'>"
      ]
     },
     "execution_count": 24,
     "metadata": {},
     "output_type": "execute_result"
    }
   ],
   "source": [
    "sys.modules[__name__]"
   ]
  },
  {
   "cell_type": "code",
   "execution_count": 25,
   "id": "77c4bdb4",
   "metadata": {},
   "outputs": [],
   "source": [
    "container.wire(modules=[sys.modules[__name__]])\n"
   ]
  },
  {
   "cell_type": "code",
   "execution_count": 26,
   "id": "9c36e376",
   "metadata": {},
   "outputs": [
    {
     "name": "stdout",
     "output_type": "stream",
     "text": [
      "{'name': 'Siddhartha', 'age': 28, 'grade': 12, 'school': 'Kendriya Vidhyala', 'board': 'Bina', 'city': 'C.V.S.E'}\n"
     ]
    }
   ],
   "source": [
    "student = Container.student()\n",
    "student.get_student()"
   ]
  },
  {
   "cell_type": "code",
   "execution_count": 27,
   "id": "3f8d6646",
   "metadata": {},
   "outputs": [],
   "source": [
    "school = Container.school()"
   ]
  },
  {
   "cell_type": "code",
   "execution_count": 28,
   "id": "09de11a6",
   "metadata": {},
   "outputs": [
    {
     "name": "stdout",
     "output_type": "stream",
     "text": [
      "school name is Kendriya Vidhyala\n"
     ]
    }
   ],
   "source": [
    "school.get_schoolname()"
   ]
  },
  {
   "cell_type": "code",
   "execution_count": 29,
   "id": "75fd5854",
   "metadata": {},
   "outputs": [],
   "source": [
    "class MockContainer(containers.DeclarativeContainer):\n",
    "    school = providers.Factory(\n",
    "        School,\n",
    "        \"Senda\",\n",
    "        \"Hights\",\n",
    "        \"2002\"\n",
    "    )\n",
    "    \n",
    "    student = providers.Factory(\n",
    "        Student,\n",
    "        \"Hello\",\n",
    "        20,\n",
    "        12,\n",
    "        school\n",
    "    )"
   ]
  },
  {
   "cell_type": "code",
   "execution_count": 30,
   "id": "0bc0ebd6",
   "metadata": {},
   "outputs": [],
   "source": [
    "container = MockContainer()"
   ]
  },
  {
   "cell_type": "code",
   "execution_count": 31,
   "id": "7a21ad4c",
   "metadata": {},
   "outputs": [],
   "source": [
    "container.wire(modules=[sys.modules[__name__]])"
   ]
  },
  {
   "cell_type": "code",
   "execution_count": 33,
   "id": "b4c32eac",
   "metadata": {},
   "outputs": [
    {
     "name": "stdout",
     "output_type": "stream",
     "text": [
      "{'name': 'Hello', 'age': 20, 'grade': 12, 'school': 'Senda', 'board': '2002', 'city': 'Hights'}\n"
     ]
    }
   ],
   "source": [
    "student = MockContainer.student()\n",
    "student.get_student()"
   ]
  }
 ],
 "metadata": {
  "kernelspec": {
   "display_name": "jup",
   "language": "python",
   "name": "python3"
  },
  "language_info": {
   "codemirror_mode": {
    "name": "ipython",
    "version": 3
   },
   "file_extension": ".py",
   "mimetype": "text/x-python",
   "name": "python",
   "nbconvert_exporter": "python",
   "pygments_lexer": "ipython3",
   "version": "3.9.7"
  }
 },
 "nbformat": 4,
 "nbformat_minor": 5
}
