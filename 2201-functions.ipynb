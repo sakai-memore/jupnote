{
 "cells": [
  {
   "cell_type": "code",
   "execution_count": 1,
   "id": "d8316746",
   "metadata": {},
   "outputs": [],
   "source": [
    "def sum(a:int, b:int) -> int:\n",
    "    return a + b\n"
   ]
  },
  {
   "cell_type": "code",
   "execution_count": 2,
   "id": "80a0636e",
   "metadata": {},
   "outputs": [
    {
     "data": {
      "text/plain": [
       "55"
      ]
     },
     "execution_count": 2,
     "metadata": {},
     "output_type": "execute_result"
    }
   ],
   "source": [
    "sum(22,33)"
   ]
  },
  {
   "cell_type": "code",
   "execution_count": 3,
   "id": "504543ba",
   "metadata": {},
   "outputs": [
    {
     "data": {
      "text/plain": [
       "'2233'"
      ]
     },
     "execution_count": 3,
     "metadata": {},
     "output_type": "execute_result"
    }
   ],
   "source": [
    "sum('22','33')"
   ]
  },
  {
   "cell_type": "code",
   "execution_count": 4,
   "id": "26afd4fd",
   "metadata": {},
   "outputs": [],
   "source": [
    "def sum2(a, b) -> int:\n",
    "    return sum(int(a), int(b))"
   ]
  },
  {
   "cell_type": "code",
   "execution_count": 5,
   "id": "3fdd7c07",
   "metadata": {},
   "outputs": [
    {
     "data": {
      "text/plain": [
       "55"
      ]
     },
     "execution_count": 5,
     "metadata": {},
     "output_type": "execute_result"
    }
   ],
   "source": [
    "sum2('22','33')"
   ]
  },
  {
   "cell_type": "code",
   "execution_count": 6,
   "id": "4658c9e9",
   "metadata": {},
   "outputs": [
    {
     "data": {
      "text/plain": [
       "55"
      ]
     },
     "execution_count": 6,
     "metadata": {},
     "output_type": "execute_result"
    }
   ],
   "source": [
    "sum2(22,'33')"
   ]
  }
 ],
 "metadata": {
  "kernelspec": {
   "display_name": "jup",
   "language": "python",
   "name": "python3"
  },
  "language_info": {
   "codemirror_mode": {
    "name": "ipython",
    "version": 3
   },
   "file_extension": ".py",
   "mimetype": "text/x-python",
   "name": "python",
   "nbconvert_exporter": "python",
   "pygments_lexer": "ipython3",
   "version": "3.9.7"
  }
 },
 "nbformat": 4,
 "nbformat_minor": 5
}
