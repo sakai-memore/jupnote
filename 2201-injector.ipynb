{
 "cells": [
  {
   "cell_type": "markdown",
   "id": "8d588cfa",
   "metadata": {},
   "source": [
    "- DI is easy to do in Python due to its support for keyword arguments, the ease with which objects can be mocked and its dynamic nature, and a framework assisting in this process can remove a lot of boiler-plate from larger apps.\n",
    "- That's where Injector can help. It automatically and transitively provides dependencies for you. As an added benefit, Injector encourages nicely compartmentalised code through the use of :ref:modules <module>"
   ]
  },
  {
   "cell_type": "markdown",
   "id": "f8c482b4",
   "metadata": {},
   "source": [
    "The core values of Injector are:\n",
    "- Simplicity - while being inspired by Guice, Injector does not slavishly replicate its API. Providing a Pythonic API trumps faithfulness. Aditionally some features are omitted because supporting them would be cumbersome and introduce a little bit too much \"magic\" (member injection, method injection)"
   ]
  },
  {
   "cell_type": "markdown",
   "id": "2c81065e",
   "metadata": {},
   "source": [
    "- No gloval state: you can have as many Injector instances as you like, each with a diferent configuration and each with different objects in different scopes."
   ]
  },
  {
   "cell_type": "markdown",
   "id": "d16f66db",
   "metadata": {},
   "source": [
    "## Quick example"
   ]
  },
  {
   "cell_type": "code",
   "execution_count": 1,
   "id": "0d53deac",
   "metadata": {},
   "outputs": [],
   "source": [
    "from injector import Injector, inject, Module, provider, singleton\n",
    "from dataclasses import dataclass"
   ]
  },
  {
   "cell_type": "code",
   "execution_count": 2,
   "id": "0ab70f52",
   "metadata": {},
   "outputs": [],
   "source": [
    "@dataclass\n",
    "class Inner:\n",
    "    a_number: int = 42\n",
    "    # def __init__(self, num):\n",
    "    #    self.a_number = num\n",
    "        "
   ]
  },
  {
   "cell_type": "code",
   "execution_count": 3,
   "id": "f9b56756",
   "metadata": {},
   "outputs": [],
   "source": [
    "@inject\n",
    "@dataclass\n",
    "class Outer_dummy:\n",
    "    inner: Inner\n",
    "        \n",
    "#@inject\n",
    "#@dataclass\n",
    "#class Outer:\n",
    "#    inner: Inner"
   ]
  },
  {
   "cell_type": "code",
   "execution_count": 4,
   "id": "d6d5ce2a",
   "metadata": {},
   "outputs": [
    {
     "name": "stdout",
     "output_type": "stream",
     "text": [
      "42\n"
     ]
    }
   ],
   "source": [
    "injector = Injector()\n",
    "\n",
    "flag = True\n",
    "\n",
    "if flag :\n",
    "    outer = injector.get(Outer_dummy)\n",
    "else:\n",
    "    pass\n",
    "    outer = injector.get(Outer)\n",
    "    \n",
    "print(outer.inner.a_number)"
   ]
  },
  {
   "cell_type": "code",
   "execution_count": 5,
   "id": "310fe004",
   "metadata": {},
   "outputs": [],
   "source": [
    "import sqlite3\n"
   ]
  },
  {
   "cell_type": "code",
   "execution_count": 6,
   "id": "de0a4e98",
   "metadata": {},
   "outputs": [],
   "source": [
    "class RequestHandler:\n",
    "    @inject\n",
    "    def __init__(self, db: sqlite3.Connection):\n",
    "        self._db = db\n",
    "    \n",
    "    def get(self):\n",
    "        cursor = self._db.cursor()\n",
    "        cursor.execute('SELECT key, value FROM data ORDER BY key')\n",
    "        return cursor.fetchall()\n",
    "\n",
    "class Configuration:\n",
    "    def __init__(self, conn_string):\n",
    "        self.connection_string = conn_string\n",
    "    "
   ]
  },
  {
   "cell_type": "code",
   "execution_count": 7,
   "id": "f4c6b06c",
   "metadata": {},
   "outputs": [],
   "source": [
    "def configure_for_testing(binder):\n",
    "    configuration = Configuration(':memory:')\n",
    "    binder.bind(Configuration, to=configuration, scope=singleton)"
   ]
  },
  {
   "cell_type": "code",
   "execution_count": 8,
   "id": "89c493f0",
   "metadata": {},
   "outputs": [],
   "source": [
    "class DatabaseModule(Module):\n",
    "    @singleton\n",
    "    @provider\n",
    "    def provide_sqlite_connection(self, configuration: Configuration) -> sqlite3.Connection:\n",
    "        conn = sqlite3.connect(configuration.connection_string)\n",
    "        cursor = conn.cursor()\n",
    "        cursor.execute('CREATE TABLE IF NOT EXISTS data (key PRIMARY KEY, value)')\n",
    "        cursor.execute('INSERT OR REPLACE INTO data VALUES (\"hello\", \"world\")')\n",
    "        return conn"
   ]
  },
  {
   "cell_type": "code",
   "execution_count": 9,
   "id": "23df189d",
   "metadata": {},
   "outputs": [
    {
     "data": {
      "text/plain": [
       "[('hello', 'world')]"
      ]
     },
     "execution_count": 9,
     "metadata": {},
     "output_type": "execute_result"
    }
   ],
   "source": [
    "injector = Injector([configure_for_testing, DatabaseModule])\n",
    "handler = injector.get(RequestHandler)\n",
    "handler.get()"
   ]
  },
  {
   "cell_type": "markdown",
   "id": "0f26420f",
   "metadata": {},
   "source": [
    "## Injection\n",
    "- Injection is the process of providing an instance of a type, to a method that uses that instance. It is achieved with the inject decorator. Keyword arguments to inject define which arguments in its deccorated method should be injected, and with what.\n",
    "- Here is an example of injection on a module provider method, and on the constructor of a normal class:"
   ]
  },
  {
   "cell_type": "markdown",
   "id": "919ff765",
   "metadata": {},
   "source": [
    "## Injector\n",
    "- The *Injector* brings everthing together. It takes a list of Moudles, and configures them with a binder, effectively creating a depndency graph: "
   ]
  },
  {
   "cell_type": "code",
   "execution_count": 10,
   "id": "689adabd",
   "metadata": {},
   "outputs": [],
   "source": [
    "from injector import Injector\n"
   ]
  },
  {
   "cell_type": "code",
   "execution_count": 11,
   "id": "6f1cd68e",
   "metadata": {},
   "outputs": [],
   "source": [
    "class Name:\n",
    "    name: str\n",
    "\n",
    "class Description:\n",
    "    description: str\n",
    "        \n",
    "class User:\n",
    "    @inject\n",
    "    def __init__(self, name: Name, description: Description):\n",
    "        self.name = name\n",
    "        self.description = description\n",
    "\n",
    "class UserModule(Module):\n",
    "    def configure(self, binder):\n",
    "       binder.bind(User)\n",
    "\n",
    "\n",
    "class UserAttributeModule(Module):\n",
    "    def configure(self, binder):\n",
    "        binder.bind(Name, to='Sherlock')\n",
    "\n",
    "    @provider\n",
    "    def describe(self, name: Name) -> Description:\n",
    "        return '%s is a man of astounding insight' % name"
   ]
  },
  {
   "cell_type": "code",
   "execution_count": 12,
   "id": "523b23e4",
   "metadata": {},
   "outputs": [],
   "source": [
    "injector = Injector([UserModule(), UserAttributeModule])"
   ]
  },
  {
   "cell_type": "code",
   "execution_count": 13,
   "id": "5709c4ff",
   "metadata": {},
   "outputs": [
    {
     "data": {
      "text/plain": [
       "'Sherlock'"
      ]
     },
     "execution_count": 13,
     "metadata": {},
     "output_type": "execute_result"
    }
   ],
   "source": [
    "injector.get(Name)"
   ]
  },
  {
   "cell_type": "code",
   "execution_count": 14,
   "id": "547886e8",
   "metadata": {},
   "outputs": [
    {
     "data": {
      "text/plain": [
       "'Sherlock is a man of astounding insight'"
      ]
     },
     "execution_count": 14,
     "metadata": {},
     "output_type": "execute_result"
    }
   ],
   "source": [
    "injector.get(Description)"
   ]
  },
  {
   "cell_type": "code",
   "execution_count": 15,
   "id": "3fa48377",
   "metadata": {},
   "outputs": [
    {
     "data": {
      "text/plain": [
       "True"
      ]
     },
     "execution_count": 15,
     "metadata": {},
     "output_type": "execute_result"
    }
   ],
   "source": [
    "user = injector.get(User)\n",
    "isinstance(user, User)"
   ]
  },
  {
   "cell_type": "code",
   "execution_count": 16,
   "id": "3846d74e",
   "metadata": {},
   "outputs": [
    {
     "data": {
      "text/plain": [
       "'Sherlock'"
      ]
     },
     "execution_count": 16,
     "metadata": {},
     "output_type": "execute_result"
    }
   ],
   "source": [
    "user.name"
   ]
  },
  {
   "cell_type": "code",
   "execution_count": 17,
   "id": "524992c5",
   "metadata": {},
   "outputs": [
    {
     "data": {
      "text/plain": [
       "'Sherlock is a man of astounding insight'"
      ]
     },
     "execution_count": 17,
     "metadata": {},
     "output_type": "execute_result"
    }
   ],
   "source": [
    "user.description"
   ]
  },
  {
   "cell_type": "markdown",
   "id": "6072ef20",
   "metadata": {},
   "source": [
    "### Injection\n",
    "- At its heart, Injector is simply a dictionary for mapping types to things that create instances of those type.This could be as simple as:"
   ]
  },
  {
   "cell_type": "markdown",
   "id": "4fde22db",
   "metadata": {},
   "source": [
    "```\n",
    "{mystr: 'an instance of a string'}\n",
    "```"
   ]
  },
  {
   "cell_type": "markdown",
   "id": "fddc2fe2",
   "metadata": {},
   "source": [
    "For those new to dependency injection and/or Guice, though, some of the terminology used may not be obvious."
   ]
  },
  {
   "cell_type": "markdown",
   "id": "6fe4a444",
   "metadata": {},
   "source": [
    "### Provider\n",
    "A means of providing an instance of a type. Built-in providers include:\n",
    "- Class Provider\n",
    "- Instance Provider\n",
    "- Callable Provider\n",
    "In order to create custom provider you need to to subclass `Provider` and override it `get()` method."
   ]
  },
  {
   "cell_type": "markdown",
   "id": "cd95b8e9",
   "metadata": {},
   "source": [
    "### Scope\n",
    "\n",
    "By default, providers are executed each time an instance is required. Scopes allow this behaviour to be customised. For example, Singleton Scope (typically used through the class decorator singleton), can be used to always provide the same instance of a class.\n",
    "\n",
    "Other examples of where scopes might be a threading scope, where instances are provided per-thread, or a request scope, where instances are provided per-HTTP request.\n",
    "\n",
    "The default scope is `NoScope`."
   ]
  },
  {
   "cell_type": "markdown",
   "id": "eecfea6c",
   "metadata": {},
   "source": [
    "### Binding\n",
    "\n",
    "A binding is the mapping of a unique binding key to a coresponding provider. For example:\n"
   ]
  },
  {
   "cell_type": "code",
   "execution_count": 21,
   "id": "127d8091",
   "metadata": {},
   "outputs": [],
   "source": [
    "from injector import InstanceProvider\n",
    "bindings = {\n",
    "    (Name, None): InstanceProvider('Sherlock'),\n",
    "    (Description, None): InstanceProvider('A man of astounding insight')\n",
    "}"
   ]
  },
  {
   "cell_type": "code",
   "execution_count": 22,
   "id": "a7136401",
   "metadata": {},
   "outputs": [
    {
     "data": {
      "text/plain": [
       "{(__main__.Name, None): InstanceProvider('Sherlock'),\n",
       " (__main__.Description, None): InstanceProvider('A man of astounding insight')}"
      ]
     },
     "execution_count": 22,
     "metadata": {},
     "output_type": "execute_result"
    }
   ],
   "source": [
    "bindings"
   ]
  },
  {
   "cell_type": "code",
   "execution_count": 24,
   "id": "3e4bf24b",
   "metadata": {},
   "outputs": [
    {
     "data": {
      "text/plain": [
       "\"<class '__main__.Name'>\""
      ]
     },
     "execution_count": 24,
     "metadata": {},
     "output_type": "execute_result"
    }
   ],
   "source": [
    "str(Name)"
   ]
  },
  {
   "cell_type": "markdown",
   "id": "3094ff20",
   "metadata": {},
   "source": [
    "### Binder\n",
    "\n",
    "The `Binder` is simply a convenient wrapper around the dictionary that maps types to providers. It provides methods that make declaring bindings easier."
   ]
  },
  {
   "cell_type": "markdown",
   "id": "211b1d35",
   "metadata": {},
   "source": [
    "### Module\n",
    "\n",
    "A `Module` configure bindings. It provides methods that simplify the process of bindings a key to a provider. For example the above bindings would be created with:"
   ]
  },
  {
   "cell_type": "markdown",
   "id": "be7108c8",
   "metadata": {},
   "source": [
    "For more complex instance construction, methods decorated with `@provider` will called to resolve binding keys:"
   ]
  },
  {
   "cell_type": "code",
   "execution_count": 25,
   "id": "904364d7",
   "metadata": {},
   "outputs": [],
   "source": [
    "from injector import singleton\n"
   ]
  },
  {
   "cell_type": "code",
   "execution_count": 33,
   "id": "771f6de1",
   "metadata": {},
   "outputs": [],
   "source": [
    "@singleton\n",
    "class TodoUseCase:\n",
    "    todo : str\n",
    "    \n",
    "    def register(self, todo: str) -> None:\n",
    "        self.todo = todo\n",
    "        print(f'My todo = \"{todo}\"')"
   ]
  },
  {
   "cell_type": "code",
   "execution_count": 38,
   "id": "d0ecb4fb",
   "metadata": {},
   "outputs": [],
   "source": [
    "@singleton\n",
    "class TodoController:\n",
    "    todo_uc : TodoUseCase\n",
    "    @inject\n",
    "    def __init__(self, todo_uc: TodoUseCase) -> None:\n",
    "        self.todo_uc = todo_uc\n",
    "        \n",
    "    def create(self, todo: str) -> None:\n",
    "        self.todo_uc.register(todo)"
   ]
  },
  {
   "cell_type": "code",
   "execution_count": 39,
   "id": "03b17e81",
   "metadata": {},
   "outputs": [
    {
     "name": "stdout",
     "output_type": "stream",
     "text": [
      "My todo = \"Activity of Coding\"\n"
     ]
    }
   ],
   "source": [
    "injector = Injector()\n",
    "todo_controller : TodoController = injector.get(TodoController)\n",
    "todo: str = 'Activity of Coding'\n",
    "\n",
    "todo_controller.create(todo)"
   ]
  }
 ],
 "metadata": {
  "kernelspec": {
   "display_name": "jup",
   "language": "python",
   "name": "python3"
  },
  "language_info": {
   "codemirror_mode": {
    "name": "ipython",
    "version": 3
   },
   "file_extension": ".py",
   "mimetype": "text/x-python",
   "name": "python",
   "nbconvert_exporter": "python",
   "pygments_lexer": "ipython3",
   "version": "3.9.7"
  }
 },
 "nbformat": 4,
 "nbformat_minor": 5
}
