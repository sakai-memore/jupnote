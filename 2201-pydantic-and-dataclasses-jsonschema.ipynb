{
 "cells": [
  {
   "cell_type": "markdown",
   "id": "293195d6",
   "metadata": {},
   "source": [
    "## pydantic\n",
    "\n",
    "### references\n",
    "- https://pydantic-docs.helpmanual.io/\n"
   ]
  },
  {
   "cell_type": "markdown",
   "id": "dfe54a9d",
   "metadata": {},
   "source": [
    "## model by BaseModel"
   ]
  },
  {
   "cell_type": "code",
   "execution_count": 1,
   "id": "66a1885c",
   "metadata": {},
   "outputs": [],
   "source": [
    "from datetime import datetime\n",
    "from typing import List, Optional\n",
    "from pydantic import BaseModel"
   ]
  },
  {
   "cell_type": "code",
   "execution_count": 2,
   "id": "d20097f5",
   "metadata": {},
   "outputs": [],
   "source": [
    "## dataclasse\n",
    "class User(BaseModel):\n",
    "    id: int\n",
    "    name = 'John Lennon'\n",
    "    signed_up_at: Optional[datetime] = None\n",
    "    # friends = List[int]\n"
   ]
  },
  {
   "cell_type": "code",
   "execution_count": 3,
   "id": "ca87a6fe",
   "metadata": {},
   "outputs": [],
   "source": [
    "data = {\n",
    "    'id': 123,\n",
    "    'signed_up_at': '2022-01-04 13:19'\n",
    "}"
   ]
  },
  {
   "cell_type": "code",
   "execution_count": 4,
   "id": "0d9a2d4a",
   "metadata": {},
   "outputs": [],
   "source": [
    "user = User(**data)"
   ]
  },
  {
   "cell_type": "code",
   "execution_count": 5,
   "id": "74500e5f",
   "metadata": {},
   "outputs": [
    {
     "data": {
      "text/plain": [
       "User(id=123, signed_up_at=datetime.datetime(2022, 1, 4, 13, 19), name='John Lennon')"
      ]
     },
     "execution_count": 5,
     "metadata": {},
     "output_type": "execute_result"
    }
   ],
   "source": [
    "user\n"
   ]
  },
  {
   "cell_type": "code",
   "execution_count": 6,
   "id": "9be9fd39",
   "metadata": {},
   "outputs": [
    {
     "data": {
      "text/plain": [
       "{'id': 123,\n",
       " 'signed_up_at': datetime.datetime(2022, 1, 4, 13, 19),\n",
       " 'name': 'John Lennon'}"
      ]
     },
     "execution_count": 6,
     "metadata": {},
     "output_type": "execute_result"
    }
   ],
   "source": [
    "user.dict()"
   ]
  },
  {
   "cell_type": "code",
   "execution_count": 7,
   "id": "523291aa",
   "metadata": {},
   "outputs": [
    {
     "data": {
      "text/plain": [
       "['Config',\n",
       " '__abstractmethods__',\n",
       " '__annotations__',\n",
       " '__class__',\n",
       " '__class_vars__',\n",
       " '__config__',\n",
       " '__custom_root_type__',\n",
       " '__delattr__',\n",
       " '__dict__',\n",
       " '__dir__',\n",
       " '__doc__',\n",
       " '__eq__',\n",
       " '__fields__',\n",
       " '__fields_set__',\n",
       " '__format__',\n",
       " '__ge__',\n",
       " '__get_validators__',\n",
       " '__getattribute__',\n",
       " '__getstate__',\n",
       " '__gt__',\n",
       " '__hash__',\n",
       " '__init__',\n",
       " '__init_subclass__',\n",
       " '__iter__',\n",
       " '__json_encoder__',\n",
       " '__le__',\n",
       " '__lt__',\n",
       " '__module__',\n",
       " '__ne__',\n",
       " '__new__',\n",
       " '__post_root_validators__',\n",
       " '__pre_root_validators__',\n",
       " '__pretty__',\n",
       " '__private_attributes__',\n",
       " '__reduce__',\n",
       " '__reduce_ex__',\n",
       " '__repr__',\n",
       " '__repr_args__',\n",
       " '__repr_name__',\n",
       " '__repr_str__',\n",
       " '__schema_cache__',\n",
       " '__setattr__',\n",
       " '__setstate__',\n",
       " '__signature__',\n",
       " '__sizeof__',\n",
       " '__slots__',\n",
       " '__str__',\n",
       " '__subclasshook__',\n",
       " '__validators__',\n",
       " '_abc_impl',\n",
       " '_calculate_keys',\n",
       " '_decompose_class',\n",
       " '_enforce_dict_if_root',\n",
       " '_get_value',\n",
       " '_init_private_attributes',\n",
       " '_iter',\n",
       " 'construct',\n",
       " 'copy',\n",
       " 'dict',\n",
       " 'from_orm',\n",
       " 'id',\n",
       " 'json',\n",
       " 'name',\n",
       " 'parse_file',\n",
       " 'parse_obj',\n",
       " 'parse_raw',\n",
       " 'schema',\n",
       " 'schema_json',\n",
       " 'signed_up_at',\n",
       " 'update_forward_refs',\n",
       " 'validate']"
      ]
     },
     "execution_count": 7,
     "metadata": {},
     "output_type": "execute_result"
    }
   ],
   "source": [
    "dir(user)"
   ]
  },
  {
   "cell_type": "markdown",
   "id": "9b79b2ce",
   "metadata": {},
   "source": [
    "## model by dataclasses"
   ]
  },
  {
   "cell_type": "code",
   "execution_count": 8,
   "id": "fb626a37",
   "metadata": {},
   "outputs": [],
   "source": [
    "from datetime import datetime\n",
    "from typing import List, Optional\n",
    "from pydantic.dataclasses import dataclass"
   ]
  },
  {
   "cell_type": "code",
   "execution_count": 9,
   "id": "43438ed8",
   "metadata": {},
   "outputs": [],
   "source": [
    "@dataclass\n",
    "class User1:\n",
    "    id: int\n",
    "    name: str = 'Paul McCartney'\n",
    "    signed_up_at: Optional[datetime] = None"
   ]
  },
  {
   "cell_type": "code",
   "execution_count": 10,
   "id": "3f34d813",
   "metadata": {},
   "outputs": [
    {
     "data": {
      "text/plain": [
       "User1(id=456, name='George Harison', signed_up_at=datetime.datetime(2022, 1, 4, 13, 33))"
      ]
     },
     "execution_count": 10,
     "metadata": {},
     "output_type": "execute_result"
    }
   ],
   "source": [
    "data1 = {\n",
    "    'id': 456,\n",
    "    'name': 'George Harison',\n",
    "    'signed_up_at': '2022-01-04 13:33'\n",
    "}\n",
    "user1 = User1(**data1)\n",
    "user1"
   ]
  },
  {
   "cell_type": "code",
   "execution_count": 11,
   "id": "932349e8",
   "metadata": {},
   "outputs": [
    {
     "data": {
      "text/plain": [
       "['__annotations__',\n",
       " '__class__',\n",
       " '__dataclass_fields__',\n",
       " '__dataclass_params__',\n",
       " '__delattr__',\n",
       " '__dict__',\n",
       " '__dir__',\n",
       " '__doc__',\n",
       " '__eq__',\n",
       " '__format__',\n",
       " '__ge__',\n",
       " '__get_validators__',\n",
       " '__getattribute__',\n",
       " '__gt__',\n",
       " '__hash__',\n",
       " '__init__',\n",
       " '__init_subclass__',\n",
       " '__initialised__',\n",
       " '__le__',\n",
       " '__lt__',\n",
       " '__module__',\n",
       " '__ne__',\n",
       " '__new__',\n",
       " '__post_init__',\n",
       " '__processed__',\n",
       " '__pydantic_model__',\n",
       " '__reduce__',\n",
       " '__reduce_ex__',\n",
       " '__repr__',\n",
       " '__setattr__',\n",
       " '__sizeof__',\n",
       " '__str__',\n",
       " '__subclasshook__',\n",
       " '__validate__',\n",
       " '__weakref__',\n",
       " 'id',\n",
       " 'name',\n",
       " 'signed_up_at']"
      ]
     },
     "execution_count": 11,
     "metadata": {},
     "output_type": "execute_result"
    }
   ],
   "source": [
    "dir(user1)"
   ]
  },
  {
   "cell_type": "markdown",
   "id": "1cade563",
   "metadata": {},
   "source": [
    "## dataclasses with json schema"
   ]
  },
  {
   "cell_type": "code",
   "execution_count": 12,
   "id": "3acbb110",
   "metadata": {},
   "outputs": [],
   "source": [
    "from dataclasses_jsonschema import JsonSchemaMixin"
   ]
  },
  {
   "cell_type": "code",
   "execution_count": 13,
   "id": "96ab22c6",
   "metadata": {},
   "outputs": [],
   "source": [
    "@dataclass\n",
    "class User2(JsonSchemaMixin):\n",
    "    id: int\n",
    "    name: str = 'Paul McCartney'\n",
    "    signed_up_at: Optional[datetime] = None"
   ]
  },
  {
   "cell_type": "code",
   "execution_count": 14,
   "id": "1719661d",
   "metadata": {},
   "outputs": [
    {
     "data": {
      "text/plain": [
       "{'type': 'object',\n",
       " 'required': ['id'],\n",
       " 'properties': {'id': {'type': 'integer'},\n",
       "  'name': {'type': 'string', 'default': 'Paul McCartney'},\n",
       "  'signed_up_at': {'type': 'string', 'format': 'date-time'}},\n",
       " 'description': \"User2(id: int, name: str = 'Paul McCartney', signed_up_at: Optional[datetime.datetime] = None)\",\n",
       " '$schema': 'http://json-schema.org/draft-06/schema#'}"
      ]
     },
     "execution_count": 14,
     "metadata": {},
     "output_type": "execute_result"
    }
   ],
   "source": [
    "User2.json_schema()  ## FIXME datetime type"
   ]
  },
  {
   "cell_type": "code",
   "execution_count": 15,
   "id": "08075d48",
   "metadata": {},
   "outputs": [
    {
     "data": {
      "text/plain": [
       "User2(id=321, name='Yoko Lennon', signed_up_at=datetime.datetime(2022, 1, 4, 13, 50))"
      ]
     },
     "execution_count": 15,
     "metadata": {},
     "output_type": "execute_result"
    }
   ],
   "source": [
    "data2 = {\n",
    "    'id': 321,\n",
    "    'name': 'Yoko Lennon',\n",
    "    'signed_up_at': '2022-01-04 13:50'\n",
    "}\n",
    "user2 = User2(**data2)\n",
    "user2\n"
   ]
  },
  {
   "cell_type": "code",
   "execution_count": 16,
   "id": "93a447e5",
   "metadata": {},
   "outputs": [
    {
     "data": {
      "text/plain": [
       "['_JsonSchemaMixin__allow_additional_props',\n",
       " '_JsonSchemaMixin__compiled_schema',\n",
       " '_JsonSchemaMixin__decode_cache',\n",
       " '_JsonSchemaMixin__definitions',\n",
       " '_JsonSchemaMixin__discriminator_inherited',\n",
       " '_JsonSchemaMixin__discriminator_name',\n",
       " '_JsonSchemaMixin__encode_cache',\n",
       " '_JsonSchemaMixin__mapped_fields',\n",
       " '_JsonSchemaMixin__schema',\n",
       " '_JsonSchemaMixin__serialise_properties',\n",
       " '__annotations__',\n",
       " '__class__',\n",
       " '__dataclass_fields__',\n",
       " '__dataclass_params__',\n",
       " '__delattr__',\n",
       " '__dict__',\n",
       " '__dir__',\n",
       " '__doc__',\n",
       " '__eq__',\n",
       " '__format__',\n",
       " '__ge__',\n",
       " '__get_validators__',\n",
       " '__getattribute__',\n",
       " '__gt__',\n",
       " '__hash__',\n",
       " '__init__',\n",
       " '__init_subclass__',\n",
       " '__initialised__',\n",
       " '__le__',\n",
       " '__lt__',\n",
       " '__module__',\n",
       " '__ne__',\n",
       " '__new__',\n",
       " '__post_init__',\n",
       " '__processed__',\n",
       " '__pydantic_model__',\n",
       " '__reduce__',\n",
       " '__reduce_ex__',\n",
       " '__repr__',\n",
       " '__setattr__',\n",
       " '__sizeof__',\n",
       " '__str__',\n",
       " '__subclasshook__',\n",
       " '__validate__',\n",
       " '__weakref__',\n",
       " '_decode_field',\n",
       " '_discriminator',\n",
       " '_encode_field',\n",
       " '_field_encoders',\n",
       " '_get_field_definitions',\n",
       " '_get_field_meta',\n",
       " '_get_field_schema',\n",
       " '_get_field_type_name',\n",
       " '_get_fields',\n",
       " '_is_json_schema_subclass',\n",
       " '_validate',\n",
       " 'all_json_schemas',\n",
       " 'field_mapping',\n",
       " 'from_dict',\n",
       " 'from_json',\n",
       " 'from_object',\n",
       " 'id',\n",
       " 'json_schema',\n",
       " 'name',\n",
       " 'register_field_encoders',\n",
       " 'signed_up_at',\n",
       " 'to_dict',\n",
       " 'to_json']"
      ]
     },
     "execution_count": 16,
     "metadata": {},
     "output_type": "execute_result"
    }
   ],
   "source": [
    "dir(user2)"
   ]
  },
  {
   "cell_type": "code",
   "execution_count": 17,
   "id": "55d16b13",
   "metadata": {},
   "outputs": [
    {
     "name": "stderr",
     "output_type": "stream",
     "text": [
      "C:\\Users\\sakai\\miniconda3\\envs\\jup\\lib\\site-packages\\dataclasses_jsonschema\\field_types.py:52: UserWarning: Naive datetime used, assuming utc\n",
      "  warnings.warn(\"Naive datetime used, assuming utc\")\n"
     ]
    },
    {
     "data": {
      "text/plain": [
       "{'id': 321, 'name': 'Yoko Lennon', 'signed_up_at': '2022-01-04T13:50:00Z'}"
      ]
     },
     "execution_count": 17,
     "metadata": {},
     "output_type": "execute_result"
    }
   ],
   "source": [
    "user2.to_dict()"
   ]
  },
  {
   "cell_type": "code",
   "execution_count": 18,
   "id": "2de7a077",
   "metadata": {},
   "outputs": [
    {
     "data": {
      "text/plain": [
       "'{\"id\": 321, \"name\": \"Yoko Lennon\", \"signed_up_at\": \"2022-01-04T13:50:00Z\"}'"
      ]
     },
     "execution_count": 18,
     "metadata": {},
     "output_type": "execute_result"
    }
   ],
   "source": [
    "user2.to_json()"
   ]
  }
 ],
 "metadata": {
  "kernelspec": {
   "display_name": "jup",
   "language": "python",
   "name": "python3"
  },
  "language_info": {
   "codemirror_mode": {
    "name": "ipython",
    "version": 3
   },
   "file_extension": ".py",
   "mimetype": "text/x-python",
   "name": "python",
   "nbconvert_exporter": "python",
   "pygments_lexer": "ipython3",
   "version": "3.9.7"
  }
 },
 "nbformat": 4,
 "nbformat_minor": 5
}
